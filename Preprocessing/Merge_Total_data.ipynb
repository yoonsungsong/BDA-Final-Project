{
 "cells": [
  {
   "cell_type": "code",
   "execution_count": 1,
   "id": "53e4f276",
   "metadata": {},
   "outputs": [],
   "source": [
    "import pandas as pd\n",
    "import numpy as np"
   ]
  },
  {
   "cell_type": "code",
   "execution_count": 4,
   "id": "93894e2b",
   "metadata": {},
   "outputs": [
    {
     "name": "stderr",
     "output_type": "stream",
     "text": [
      "/Users/yoonsung/opt/anaconda3/envs/test/lib/python3.9/site-packages/IPython/core/interactiveshell.py:3165: DtypeWarning: Columns (23,24) have mixed types.Specify dtype option on import or set low_memory=False.\n",
      "  has_raised = await self.run_ast_nodes(code_ast.body, cell_name,\n",
      "/Users/yoonsung/opt/anaconda3/envs/test/lib/python3.9/site-packages/IPython/core/interactiveshell.py:3165: DtypeWarning: Columns (25) have mixed types.Specify dtype option on import or set low_memory=False.\n",
      "  has_raised = await self.run_ast_nodes(code_ast.body, cell_name,\n"
     ]
    }
   ],
   "source": [
    "nike_dunk = pd.read_csv('data/nike_dunk(model).csv', index_col=0)\n",
    "jordan1 = pd.read_csv('data/jordan_1(model).csv', index_col=0)\n",
    "nike_air_force = pd.read_csv('data/nike_air_force(model).csv', index_col=0)"
   ]
  },
  {
   "cell_type": "code",
   "execution_count": 8,
   "id": "031a4fde",
   "metadata": {},
   "outputs": [
    {
     "name": "stdout",
     "output_type": "stream",
     "text": [
      "(197162, 30)\n"
     ]
    },
    {
     "data": {
      "text/html": [
       "<div>\n",
       "<style scoped>\n",
       "    .dataframe tbody tr th:only-of-type {\n",
       "        vertical-align: middle;\n",
       "    }\n",
       "\n",
       "    .dataframe tbody tr th {\n",
       "        vertical-align: top;\n",
       "    }\n",
       "\n",
       "    .dataframe thead th {\n",
       "        text-align: right;\n",
       "    }\n",
       "</style>\n",
       "<table border=\"1\" class=\"dataframe\">\n",
       "  <thead>\n",
       "    <tr style=\"text-align: right;\">\n",
       "      <th></th>\n",
       "      <th>size</th>\n",
       "      <th>price</th>\n",
       "      <th>date</th>\n",
       "      <th>product</th>\n",
       "      <th>release_date</th>\n",
       "      <th>color</th>\n",
       "      <th>release_price</th>\n",
       "      <th>brand</th>\n",
       "      <th>category</th>\n",
       "      <th>number</th>\n",
       "      <th>...</th>\n",
       "      <th>color1</th>\n",
       "      <th>color2</th>\n",
       "      <th>color3</th>\n",
       "      <th>color4</th>\n",
       "      <th>Collabo</th>\n",
       "      <th>Collabo_brand</th>\n",
       "      <th>after_day</th>\n",
       "      <th>after_day_log</th>\n",
       "      <th>date_unix</th>\n",
       "      <th>release_date_unix</th>\n",
       "    </tr>\n",
       "  </thead>\n",
       "  <tbody>\n",
       "    <tr>\n",
       "      <th>0</th>\n",
       "      <td>235</td>\n",
       "      <td>124000</td>\n",
       "      <td>2021-11-14</td>\n",
       "      <td>(W) Nike Dunk Low SE Primal Black</td>\n",
       "      <td>2021-11-07</td>\n",
       "      <td>BLACK/MULTI-COLOR/BLACK</td>\n",
       "      <td>129000</td>\n",
       "      <td>Nike</td>\n",
       "      <td>Nike Dunk</td>\n",
       "      <td>41947.0</td>\n",
       "      <td>...</td>\n",
       "      <td>BLACK</td>\n",
       "      <td>MULTI-COLOR</td>\n",
       "      <td>BLACK</td>\n",
       "      <td>NaN</td>\n",
       "      <td>False</td>\n",
       "      <td>None</td>\n",
       "      <td>7</td>\n",
       "      <td>1.94591</td>\n",
       "      <td>738108</td>\n",
       "      <td>738101</td>\n",
       "    </tr>\n",
       "  </tbody>\n",
       "</table>\n",
       "<p>1 rows × 30 columns</p>\n",
       "</div>"
      ],
      "text/plain": [
       "   size   price        date                            product release_date  \\\n",
       "0   235  124000  2021-11-14  (W) Nike Dunk Low SE Primal Black   2021-11-07   \n",
       "\n",
       "                     color  release_price brand   category   number  ...  \\\n",
       "0  BLACK/MULTI-COLOR/BLACK         129000  Nike  Nike Dunk  41947.0  ...   \n",
       "\n",
       "   color1       color2  color3 color4  Collabo  Collabo_brand after_day  \\\n",
       "0   BLACK  MULTI-COLOR   BLACK    NaN    False           None         7   \n",
       "\n",
       "  after_day_log  date_unix  release_date_unix  \n",
       "0       1.94591     738108             738101  \n",
       "\n",
       "[1 rows x 30 columns]"
      ]
     },
     "execution_count": 8,
     "metadata": {},
     "output_type": "execute_result"
    }
   ],
   "source": [
    "print(nike_dunk.shape)\n",
    "nike_dunk.head(1)"
   ]
  },
  {
   "cell_type": "code",
   "execution_count": 9,
   "id": "c84364b2",
   "metadata": {},
   "outputs": [
    {
     "name": "stdout",
     "output_type": "stream",
     "text": [
      "(290906, 30)\n"
     ]
    },
    {
     "data": {
      "text/html": [
       "<div>\n",
       "<style scoped>\n",
       "    .dataframe tbody tr th:only-of-type {\n",
       "        vertical-align: middle;\n",
       "    }\n",
       "\n",
       "    .dataframe tbody tr th {\n",
       "        vertical-align: top;\n",
       "    }\n",
       "\n",
       "    .dataframe thead th {\n",
       "        text-align: right;\n",
       "    }\n",
       "</style>\n",
       "<table border=\"1\" class=\"dataframe\">\n",
       "  <thead>\n",
       "    <tr style=\"text-align: right;\">\n",
       "      <th></th>\n",
       "      <th>size</th>\n",
       "      <th>price</th>\n",
       "      <th>date</th>\n",
       "      <th>product</th>\n",
       "      <th>release_date</th>\n",
       "      <th>color</th>\n",
       "      <th>release_price</th>\n",
       "      <th>type</th>\n",
       "      <th>brand</th>\n",
       "      <th>category</th>\n",
       "      <th>...</th>\n",
       "      <th>color1</th>\n",
       "      <th>color2</th>\n",
       "      <th>color3</th>\n",
       "      <th>color4</th>\n",
       "      <th>Collabo</th>\n",
       "      <th>Collabo_brand</th>\n",
       "      <th>after_day</th>\n",
       "      <th>after_day_log</th>\n",
       "      <th>date_unix</th>\n",
       "      <th>release_date_unix</th>\n",
       "    </tr>\n",
       "  </thead>\n",
       "  <tbody>\n",
       "    <tr>\n",
       "      <th>0</th>\n",
       "      <td>250</td>\n",
       "      <td>202000</td>\n",
       "      <td>2021-06-13</td>\n",
       "      <td>Jordan 1 Retro High OG Light Fusion Red</td>\n",
       "      <td>2021-06-12</td>\n",
       "      <td>LIGHTFUSIONRED/WHITE-LASERORANGE-BLACK</td>\n",
       "      <td>199000</td>\n",
       "      <td>High</td>\n",
       "      <td>Jordan</td>\n",
       "      <td>Jordan 1</td>\n",
       "      <td>...</td>\n",
       "      <td>LIGHTFUSIONRED</td>\n",
       "      <td>WHITE-LASERORANGE-BLACK</td>\n",
       "      <td>NaN</td>\n",
       "      <td>NaN</td>\n",
       "      <td>False</td>\n",
       "      <td>None</td>\n",
       "      <td>1</td>\n",
       "      <td>9.999995e-07</td>\n",
       "      <td>737954</td>\n",
       "      <td>737953</td>\n",
       "    </tr>\n",
       "  </tbody>\n",
       "</table>\n",
       "<p>1 rows × 30 columns</p>\n",
       "</div>"
      ],
      "text/plain": [
       "   size   price        date                                  product  \\\n",
       "0   250  202000  2021-06-13  Jordan 1 Retro High OG Light Fusion Red   \n",
       "\n",
       "  release_date                                   color  release_price  type  \\\n",
       "0   2021-06-12  LIGHTFUSIONRED/WHITE-LASERORANGE-BLACK         199000  High   \n",
       "\n",
       "    brand  category  ...          color1                   color2  color3  \\\n",
       "0  Jordan  Jordan 1  ...  LIGHTFUSIONRED  WHITE-LASERORANGE-BLACK     NaN   \n",
       "\n",
       "   color4  Collabo  Collabo_brand after_day after_day_log  date_unix  \\\n",
       "0     NaN    False           None         1  9.999995e-07     737954   \n",
       "\n",
       "   release_date_unix  \n",
       "0             737953  \n",
       "\n",
       "[1 rows x 30 columns]"
      ]
     },
     "execution_count": 9,
     "metadata": {},
     "output_type": "execute_result"
    }
   ],
   "source": [
    "print(jordan1.shape)\n",
    "jordan1.head(1)"
   ]
  },
  {
   "cell_type": "code",
   "execution_count": 10,
   "id": "f85103ec",
   "metadata": {},
   "outputs": [
    {
     "name": "stdout",
     "output_type": "stream",
     "text": [
      "(74307, 31)\n"
     ]
    },
    {
     "data": {
      "text/html": [
       "<div>\n",
       "<style scoped>\n",
       "    .dataframe tbody tr th:only-of-type {\n",
       "        vertical-align: middle;\n",
       "    }\n",
       "\n",
       "    .dataframe tbody tr th {\n",
       "        vertical-align: top;\n",
       "    }\n",
       "\n",
       "    .dataframe thead th {\n",
       "        text-align: right;\n",
       "    }\n",
       "</style>\n",
       "<table border=\"1\" class=\"dataframe\">\n",
       "  <thead>\n",
       "    <tr style=\"text-align: right;\">\n",
       "      <th></th>\n",
       "      <th>size</th>\n",
       "      <th>price</th>\n",
       "      <th>date</th>\n",
       "      <th>product</th>\n",
       "      <th>release_date</th>\n",
       "      <th>color</th>\n",
       "      <th>release_price</th>\n",
       "      <th>type</th>\n",
       "      <th>brand</th>\n",
       "      <th>category</th>\n",
       "      <th>...</th>\n",
       "      <th>color2</th>\n",
       "      <th>color3</th>\n",
       "      <th>color4</th>\n",
       "      <th>color5</th>\n",
       "      <th>Collabo</th>\n",
       "      <th>Collabo_brand</th>\n",
       "      <th>after_day</th>\n",
       "      <th>after_day_log</th>\n",
       "      <th>date_unix</th>\n",
       "      <th>release_date_unix</th>\n",
       "    </tr>\n",
       "  </thead>\n",
       "  <tbody>\n",
       "    <tr>\n",
       "      <th>0</th>\n",
       "      <td>240</td>\n",
       "      <td>180000</td>\n",
       "      <td>2020-10-25</td>\n",
       "      <td>(W) Nike Air Force 1 LXX Game Royal University...</td>\n",
       "      <td>2020-10-17</td>\n",
       "      <td>WHITE/GAMEROYAL-UNIVERSITYRED</td>\n",
       "      <td>132300</td>\n",
       "      <td>etc</td>\n",
       "      <td>Nike</td>\n",
       "      <td>Nike Air Force</td>\n",
       "      <td>...</td>\n",
       "      <td>GAMEROYAL-UNIVERSITYRED</td>\n",
       "      <td>NaN</td>\n",
       "      <td>NaN</td>\n",
       "      <td>NaN</td>\n",
       "      <td>False</td>\n",
       "      <td>None</td>\n",
       "      <td>8</td>\n",
       "      <td>2.079442</td>\n",
       "      <td>737723</td>\n",
       "      <td>737715</td>\n",
       "    </tr>\n",
       "  </tbody>\n",
       "</table>\n",
       "<p>1 rows × 31 columns</p>\n",
       "</div>"
      ],
      "text/plain": [
       "   size   price        date  \\\n",
       "0   240  180000  2020-10-25   \n",
       "\n",
       "                                             product release_date  \\\n",
       "0  (W) Nike Air Force 1 LXX Game Royal University...   2020-10-17   \n",
       "\n",
       "                           color  release_price type brand        category  \\\n",
       "0  WHITE/GAMEROYAL-UNIVERSITYRED         132300  etc  Nike  Nike Air Force   \n",
       "\n",
       "   ...                   color2  color3  color4  color5  Collabo  \\\n",
       "0  ...  GAMEROYAL-UNIVERSITYRED     NaN     NaN     NaN    False   \n",
       "\n",
       "   Collabo_brand after_day after_day_log  date_unix  release_date_unix  \n",
       "0           None         8      2.079442     737723             737715  \n",
       "\n",
       "[1 rows x 31 columns]"
      ]
     },
     "execution_count": 10,
     "metadata": {},
     "output_type": "execute_result"
    }
   ],
   "source": [
    "print(nike_air_force.shape)\n",
    "nike_air_force.head(1)"
   ]
  },
  {
   "cell_type": "code",
   "execution_count": 12,
   "id": "4615d5fa",
   "metadata": {},
   "outputs": [],
   "source": [
    "nike_dunk['color5'] = np.nan"
   ]
  },
  {
   "cell_type": "code",
   "execution_count": 14,
   "id": "756861d0",
   "metadata": {},
   "outputs": [],
   "source": [
    "jordan1['color5'] = np.nan"
   ]
  },
  {
   "cell_type": "code",
   "execution_count": 17,
   "id": "357e7ab3",
   "metadata": {},
   "outputs": [],
   "source": [
    "columns = nike_air_force.columns"
   ]
  },
  {
   "cell_type": "code",
   "execution_count": null,
   "id": "f24069f3",
   "metadata": {},
   "outputs": [],
   "source": [
    "columns = ['date', 'product', 'size', 'price', 'release_date']"
   ]
  },
  {
   "cell_type": "code",
   "execution_count": 19,
   "id": "222e99a5",
   "metadata": {},
   "outputs": [],
   "source": [
    "nike_dunk = nike_dunk[columns]\n",
    "nike_air_force = nike_air_force[columns]\n",
    "jordan1 = jordan1[columns]"
   ]
  },
  {
   "cell_type": "code",
   "execution_count": 30,
   "id": "313cbd7a",
   "metadata": {},
   "outputs": [],
   "source": [
    "pd.options.display.max_columns=100"
   ]
  },
  {
   "cell_type": "code",
   "execution_count": 33,
   "id": "3731be4a",
   "metadata": {},
   "outputs": [],
   "source": [
    "data = pd.concat([nike_dunk, nike_air_force, jordan1], axis=0).reset_index(drop=True)"
   ]
  },
  {
   "cell_type": "code",
   "execution_count": 34,
   "id": "4def98d3",
   "metadata": {},
   "outputs": [],
   "source": [
    "data.to_csv('data/dataset.csv', index=False)"
   ]
  },
  {
   "cell_type": "code",
   "execution_count": null,
   "id": "9ab5d50f",
   "metadata": {},
   "outputs": [],
   "source": []
  },
  {
   "cell_type": "code",
   "execution_count": 36,
   "id": "939d2ebc",
   "metadata": {},
   "outputs": [
    {
     "name": "stdout",
     "output_type": "stream",
     "text": [
      "(562375, 31)\n"
     ]
    },
    {
     "data": {
      "text/html": [
       "<div>\n",
       "<style scoped>\n",
       "    .dataframe tbody tr th:only-of-type {\n",
       "        vertical-align: middle;\n",
       "    }\n",
       "\n",
       "    .dataframe tbody tr th {\n",
       "        vertical-align: top;\n",
       "    }\n",
       "\n",
       "    .dataframe thead th {\n",
       "        text-align: right;\n",
       "    }\n",
       "</style>\n",
       "<table border=\"1\" class=\"dataframe\">\n",
       "  <thead>\n",
       "    <tr style=\"text-align: right;\">\n",
       "      <th></th>\n",
       "      <th>size</th>\n",
       "      <th>price</th>\n",
       "      <th>date</th>\n",
       "      <th>product</th>\n",
       "      <th>release_date</th>\n",
       "      <th>color</th>\n",
       "      <th>release_price</th>\n",
       "      <th>type</th>\n",
       "      <th>brand</th>\n",
       "      <th>category</th>\n",
       "      <th>number</th>\n",
       "      <th>wish</th>\n",
       "      <th>review</th>\n",
       "      <th>transactions</th>\n",
       "      <th>review_log</th>\n",
       "      <th>wish_log</th>\n",
       "      <th>size_target</th>\n",
       "      <th>size_type</th>\n",
       "      <th>color_count</th>\n",
       "      <th>multicolor</th>\n",
       "      <th>color1</th>\n",
       "      <th>color2</th>\n",
       "      <th>color3</th>\n",
       "      <th>color4</th>\n",
       "      <th>color5</th>\n",
       "      <th>Collabo</th>\n",
       "      <th>Collabo_brand</th>\n",
       "      <th>after_day</th>\n",
       "      <th>after_day_log</th>\n",
       "      <th>date_unix</th>\n",
       "      <th>release_date_unix</th>\n",
       "    </tr>\n",
       "  </thead>\n",
       "  <tbody>\n",
       "    <tr>\n",
       "      <th>0</th>\n",
       "      <td>235</td>\n",
       "      <td>124000</td>\n",
       "      <td>2021-11-14</td>\n",
       "      <td>(W) Nike Dunk Low SE Primal Black</td>\n",
       "      <td>2021-11-07</td>\n",
       "      <td>BLACK/MULTI-COLOR/BLACK</td>\n",
       "      <td>129000</td>\n",
       "      <td>Low</td>\n",
       "      <td>Nike</td>\n",
       "      <td>Nike Dunk</td>\n",
       "      <td>41947.0</td>\n",
       "      <td>93.0</td>\n",
       "      <td>4.0</td>\n",
       "      <td>30</td>\n",
       "      <td>1.386295</td>\n",
       "      <td>4.5326</td>\n",
       "      <td>Female</td>\n",
       "      <td>W</td>\n",
       "      <td>3</td>\n",
       "      <td>True</td>\n",
       "      <td>BLACK</td>\n",
       "      <td>MULTI-COLOR</td>\n",
       "      <td>BLACK</td>\n",
       "      <td>NaN</td>\n",
       "      <td>NaN</td>\n",
       "      <td>False</td>\n",
       "      <td>None</td>\n",
       "      <td>7</td>\n",
       "      <td>1.94591</td>\n",
       "      <td>738108</td>\n",
       "      <td>738101</td>\n",
       "    </tr>\n",
       "  </tbody>\n",
       "</table>\n",
       "</div>"
      ],
      "text/plain": [
       "   size   price        date                            product release_date  \\\n",
       "0   235  124000  2021-11-14  (W) Nike Dunk Low SE Primal Black   2021-11-07   \n",
       "\n",
       "                     color  release_price type brand   category   number  \\\n",
       "0  BLACK/MULTI-COLOR/BLACK         129000  Low  Nike  Nike Dunk  41947.0   \n",
       "\n",
       "   wish  review  transactions  review_log  wish_log size_target size_type  \\\n",
       "0  93.0     4.0            30    1.386295    4.5326      Female         W   \n",
       "\n",
       "   color_count  multicolor color1       color2 color3 color4 color5  Collabo  \\\n",
       "0            3        True  BLACK  MULTI-COLOR  BLACK    NaN    NaN    False   \n",
       "\n",
       "  Collabo_brand  after_day  after_day_log  date_unix  release_date_unix  \n",
       "0          None          7        1.94591     738108             738101  "
      ]
     },
     "execution_count": 36,
     "metadata": {},
     "output_type": "execute_result"
    }
   ],
   "source": [
    "print(data.shape)\n",
    "data.head(1)"
   ]
  },
  {
   "cell_type": "code",
   "execution_count": 39,
   "id": "e7866d3f",
   "metadata": {},
   "outputs": [
    {
     "data": {
      "text/plain": [
       "(439250, 31)"
      ]
     },
     "execution_count": 39,
     "metadata": {},
     "output_type": "execute_result"
    }
   ],
   "source": [
    "data.drop_duplicates().shape"
   ]
  },
  {
   "cell_type": "code",
   "execution_count": null,
   "id": "ba46f902",
   "metadata": {},
   "outputs": [],
   "source": []
  }
 ],
 "metadata": {
  "kernelspec": {
   "display_name": "Python 3",
   "language": "python",
   "name": "python3"
  },
  "language_info": {
   "codemirror_mode": {
    "name": "ipython",
    "version": 3
   },
   "file_extension": ".py",
   "mimetype": "text/x-python",
   "name": "python",
   "nbconvert_exporter": "python",
   "pygments_lexer": "ipython3",
   "version": "3.9.4"
  }
 },
 "nbformat": 4,
 "nbformat_minor": 5
}
