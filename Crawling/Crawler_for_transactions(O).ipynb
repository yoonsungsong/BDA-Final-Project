{
 "cells": [
  {
   "cell_type": "markdown",
   "id": "f78a9967",
   "metadata": {},
   "source": [
    "# Kream Data 크롤러\n",
    "- products 목록의 제품들을 모두 크롤링한다.\n",
    "- 오류 발생시 해당 제품은 체크 후 넘어간다."
   ]
  },
  {
   "cell_type": "code",
   "execution_count": 1,
   "id": "bb0d00e3",
   "metadata": {},
   "outputs": [],
   "source": [
    "import time\n",
    "import requests\n",
    "from bs4 import BeautifulSoup\n",
    "from selenium import webdriver\n",
    "from selenium.webdriver.common.keys import Keys\n",
    "\n",
    "import pandas as pd\n",
    "import numpy as np\n",
    "\n",
    "pd.options.display.max_rows=100\n",
    "pd.options.display.max_columns=100"
   ]
  },
  {
   "cell_type": "markdown",
   "id": "b8dfc08d",
   "metadata": {},
   "source": [
    "## 크롬드라이버 열고, kream 로그인"
   ]
  },
  {
   "cell_type": "code",
   "execution_count": 293,
   "id": "ea0b6584",
   "metadata": {},
   "outputs": [
    {
     "name": "stderr",
     "output_type": "stream",
     "text": [
      "<ipython-input-293-fbec8bd2716a>:2: DeprecationWarning: executable_path has been deprecated, please pass in a Service object\n",
      "  driver = webdriver.Chrome('./chromedriver')\n"
     ]
    }
   ],
   "source": [
    "# 크롬창 열기\n",
    "driver = webdriver.Chrome('./chromedriver')\n",
    "\n",
    "# 윈도우 사용자\n",
    "# driver = webdriver.Chrome('.//chromedriver.exe')"
   ]
  },
  {
   "cell_type": "code",
   "execution_count": null,
   "id": "eb74aee9",
   "metadata": {},
   "outputs": [],
   "source": [
    "# 크림 홈페이지 접속 후 로그인 미리 실행\n",
    "# https://kream.co.kr/"
   ]
  },
  {
   "cell_type": "markdown",
   "id": "fba8e115",
   "metadata": {},
   "source": [
    "## products list 불러오기"
   ]
  },
  {
   "cell_type": "code",
   "execution_count": 2,
   "id": "85a0b247",
   "metadata": {},
   "outputs": [],
   "source": [
    "products = pd.read_csv('data/products/products_adidas_yeezy.csv')"
   ]
  },
  {
   "cell_type": "code",
   "execution_count": 3,
   "id": "80646c1d",
   "metadata": {},
   "outputs": [
    {
     "data": {
      "text/html": [
       "<div>\n",
       "<style scoped>\n",
       "    .dataframe tbody tr th:only-of-type {\n",
       "        vertical-align: middle;\n",
       "    }\n",
       "\n",
       "    .dataframe tbody tr th {\n",
       "        vertical-align: top;\n",
       "    }\n",
       "\n",
       "    .dataframe thead th {\n",
       "        text-align: right;\n",
       "    }\n",
       "</style>\n",
       "<table border=\"1\" class=\"dataframe\">\n",
       "  <thead>\n",
       "    <tr style=\"text-align: right;\">\n",
       "      <th></th>\n",
       "      <th>Unnamed: 0</th>\n",
       "      <th>product</th>\n",
       "      <th>brand</th>\n",
       "      <th>category</th>\n",
       "      <th>number</th>\n",
       "      <th>wish</th>\n",
       "      <th>review</th>\n",
       "    </tr>\n",
       "  </thead>\n",
       "  <tbody>\n",
       "    <tr>\n",
       "      <th>0</th>\n",
       "      <td>0</td>\n",
       "      <td>Adidas Yeezy Boost 350 V2 Beluga - Reflective</td>\n",
       "      <td>Adidas</td>\n",
       "      <td>Adidas Yeezy</td>\n",
       "      <td>46666</td>\n",
       "      <td>4,717</td>\n",
       "      <td>231</td>\n",
       "    </tr>\n",
       "    <tr>\n",
       "      <th>1</th>\n",
       "      <td>1</td>\n",
       "      <td>Adidas Yeezy Boost 350 V2 Blue Tint</td>\n",
       "      <td>Adidas</td>\n",
       "      <td>Adidas Yeezy</td>\n",
       "      <td>12491</td>\n",
       "      <td>5,641</td>\n",
       "      <td>256</td>\n",
       "    </tr>\n",
       "    <tr>\n",
       "      <th>2</th>\n",
       "      <td>2</td>\n",
       "      <td>Adidas Yeezy 500 Ash Grey</td>\n",
       "      <td>Adidas</td>\n",
       "      <td>Adidas Yeezy</td>\n",
       "      <td>46083</td>\n",
       "      <td>2,282</td>\n",
       "      <td>28</td>\n",
       "    </tr>\n",
       "    <tr>\n",
       "      <th>3</th>\n",
       "      <td>3</td>\n",
       "      <td>Adidas Yeezy Boost 350 V2 MX Rock</td>\n",
       "      <td>Adidas</td>\n",
       "      <td>Adidas Yeezy</td>\n",
       "      <td>47158</td>\n",
       "      <td>1,333</td>\n",
       "      <td>52</td>\n",
       "    </tr>\n",
       "    <tr>\n",
       "      <th>4</th>\n",
       "      <td>4</td>\n",
       "      <td>Adidas Yeezy Boost 350 V2 Israfil</td>\n",
       "      <td>Adidas</td>\n",
       "      <td>Adidas Yeezy</td>\n",
       "      <td>25011</td>\n",
       "      <td>1,594</td>\n",
       "      <td>74</td>\n",
       "    </tr>\n",
       "    <tr>\n",
       "      <th>...</th>\n",
       "      <td>...</td>\n",
       "      <td>...</td>\n",
       "      <td>...</td>\n",
       "      <td>...</td>\n",
       "      <td>...</td>\n",
       "      <td>...</td>\n",
       "      <td>...</td>\n",
       "    </tr>\n",
       "    <tr>\n",
       "      <th>314</th>\n",
       "      <td>314</td>\n",
       "      <td>(Kids) Adidas Yeezy Boost 350 V2 Citrin</td>\n",
       "      <td>Adidas</td>\n",
       "      <td>Adidas Yeezy</td>\n",
       "      <td>22114</td>\n",
       "      <td>10</td>\n",
       "      <td>0</td>\n",
       "    </tr>\n",
       "    <tr>\n",
       "      <th>315</th>\n",
       "      <td>315</td>\n",
       "      <td>(Kids) Adidas Yeezy Boost 350 V2 Lundmark</td>\n",
       "      <td>Adidas</td>\n",
       "      <td>Adidas Yeezy</td>\n",
       "      <td>21255</td>\n",
       "      <td>9</td>\n",
       "      <td>0</td>\n",
       "    </tr>\n",
       "    <tr>\n",
       "      <th>316</th>\n",
       "      <td>316</td>\n",
       "      <td>(W) Adidas Yeezy 950 Moonrock</td>\n",
       "      <td>Adidas</td>\n",
       "      <td>Adidas Yeezy</td>\n",
       "      <td>5831</td>\n",
       "      <td>6</td>\n",
       "      <td>2</td>\n",
       "    </tr>\n",
       "    <tr>\n",
       "      <th>317</th>\n",
       "      <td>317</td>\n",
       "      <td>(W) Adidas Yeezy 950 Turtle Dove</td>\n",
       "      <td>Adidas</td>\n",
       "      <td>Adidas Yeezy</td>\n",
       "      <td>5829</td>\n",
       "      <td>3</td>\n",
       "      <td>0</td>\n",
       "    </tr>\n",
       "    <tr>\n",
       "      <th>318</th>\n",
       "      <td>318</td>\n",
       "      <td>Adidas Yeezy 950 Peyote</td>\n",
       "      <td>Adidas</td>\n",
       "      <td>Adidas Yeezy</td>\n",
       "      <td>5828</td>\n",
       "      <td>10</td>\n",
       "      <td>1</td>\n",
       "    </tr>\n",
       "  </tbody>\n",
       "</table>\n",
       "<p>319 rows × 7 columns</p>\n",
       "</div>"
      ],
      "text/plain": [
       "     Unnamed: 0                                        product   brand  \\\n",
       "0             0  Adidas Yeezy Boost 350 V2 Beluga - Reflective  Adidas   \n",
       "1             1            Adidas Yeezy Boost 350 V2 Blue Tint  Adidas   \n",
       "2             2                      Adidas Yeezy 500 Ash Grey  Adidas   \n",
       "3             3              Adidas Yeezy Boost 350 V2 MX Rock  Adidas   \n",
       "4             4              Adidas Yeezy Boost 350 V2 Israfil  Adidas   \n",
       "..          ...                                            ...     ...   \n",
       "314         314        (Kids) Adidas Yeezy Boost 350 V2 Citrin  Adidas   \n",
       "315         315      (Kids) Adidas Yeezy Boost 350 V2 Lundmark  Adidas   \n",
       "316         316                  (W) Adidas Yeezy 950 Moonrock  Adidas   \n",
       "317         317               (W) Adidas Yeezy 950 Turtle Dove  Adidas   \n",
       "318         318                        Adidas Yeezy 950 Peyote  Adidas   \n",
       "\n",
       "         category  number   wish review  \n",
       "0    Adidas Yeezy   46666  4,717    231  \n",
       "1    Adidas Yeezy   12491  5,641    256  \n",
       "2    Adidas Yeezy   46083  2,282     28  \n",
       "3    Adidas Yeezy   47158  1,333     52  \n",
       "4    Adidas Yeezy   25011  1,594     74  \n",
       "..            ...     ...    ...    ...  \n",
       "314  Adidas Yeezy   22114     10      0  \n",
       "315  Adidas Yeezy   21255      9      0  \n",
       "316  Adidas Yeezy    5831      6      2  \n",
       "317  Adidas Yeezy    5829      3      0  \n",
       "318  Adidas Yeezy    5828     10      1  \n",
       "\n",
       "[319 rows x 7 columns]"
      ]
     },
     "execution_count": 3,
     "metadata": {},
     "output_type": "execute_result"
    }
   ],
   "source": [
    "products"
   ]
  },
  {
   "cell_type": "markdown",
   "id": "6903075a",
   "metadata": {},
   "source": [
    "## 크롤링 함수 만들기"
   ]
  },
  {
   "cell_type": "code",
   "execution_count": null,
   "id": "5211ff3f",
   "metadata": {},
   "outputs": [],
   "source": [
    "crawling_list = []"
   ]
  },
  {
   "cell_type": "code",
   "execution_count": 360,
   "id": "f01d6376",
   "metadata": {},
   "outputs": [],
   "source": [
    "# 스크롤 다운 함수 정의\n",
    "import datetime\n",
    "    \n",
    "def doScrollDown(whileSeconds):\n",
    "    start = datetime.datetime.now()\n",
    "    end = start + datetime.timedelta(seconds=whileSeconds)\n",
    "    while True:\n",
    "        itemlist = driver.find_element_by_class_name(\"price_body\")\n",
    "        driver.execute_script(\"arguments[0].scrollBy(0, -100)\", itemlist)\n",
    "        driver.execute_script(\"arguments[0].scrollBy(0, document.body.scrollHeight)\", itemlist)\n",
    "        time.sleep(1)\n",
    "        if datetime.datetime.now() > end:\n",
    "            break\n",
    "\n",
    "# 크롤링 함수 (제품번호, 스크롤다운 초)\n",
    "def crawler(number, seconds, re_list):\n",
    "    # products 신발 선택\n",
    "    url = 'https://kream.co.kr/products/{0}'.format(number)\n",
    "    driver.get(url)\n",
    "    # 암시적 대기, 웹페이지 전체가 뜰때까지 대기\n",
    "    driver.implicitly_wait(5)\n",
    "    # 이름 뽑기\n",
    "    html = driver.page_source\n",
    "    soup = BeautifulSoup(html, 'html.parser')\n",
    "    item = soup.select('div.main_title_box > p.title')\n",
    "    product_name = item[0].text\n",
    "    # 컬럼 뽑기\n",
    "    item = soup.select('dl.detail_product')\n",
    "    cols = item[0].text.replace('\\n', '').replace(' ','')\n",
    "    r1 = cols.find('출시일')\n",
    "    r2 = cols.find('컬러')\n",
    "    r3 = cols.find('발매가')\n",
    "    release_date = cols[r1+3:r2]\n",
    "    color = cols[r2+2:r3]\n",
    "    release_price = cols[r3+3:]\n",
    "    # end_date\n",
    "    end_date = soup.select('td.table_td.align_right')[1].text.replace('\\n','').replace(' ','')\n",
    "    # 체결 내역 더보기 클릭 (copy Xpath)\n",
    "    driver.find_element_by_xpath('//*[@id=\"panel1\"]/a').click()\n",
    "    # 체결 내역 날짜 오름차순 정렬\n",
    "    driver.find_element_by_xpath('//*[@id=\"panel1\"]/div/div/div[1]/div/div[3]/a').click()\n",
    "    # 체결 내역 더보기 스크롤 다운\n",
    "    doScrollDown(seconds)\n",
    "    # 데이터 추출\n",
    "    html = driver.page_source\n",
    "    soup = BeautifulSoup(html, 'html.parser')\n",
    "    size_list = []\n",
    "    price_list = []\n",
    "    date_list = []\n",
    "    items = soup.select('div.body_list > div.list_txt')\n",
    "    for i in range(len(items)):\n",
    "        item = items[i].text.replace('\\n', '').replace(' ','')\n",
    "        if i%3 == 0:\n",
    "            size_list.append(item)\n",
    "        elif i%3 == 1:\n",
    "            price_list.append(item)\n",
    "        elif i%3 == 2:\n",
    "            date_list.append(item)\n",
    "    df = pd.DataFrame({'size': size_list, 'price': price_list, 'date': date_list})\n",
    "    df['product'] = product_name\n",
    "    df['release_date'] = release_date\n",
    "    df['color'] = color\n",
    "    df['release_price'] = release_price\n",
    "    file_name = product_name.replace(' ','_')\n",
    "    df.to_csv('data/transactions/{0}.csv'.format(file_name))\n",
    "    if df['date'].max() == end_date:\n",
    "        print('<<크롤링 완벽히 성공>>')\n",
    "    else:\n",
    "        print(\"@@@@@@@스크롤 부족!! 이 상품 다시 크롤링하세요!@@@@@@@\")\n",
    "    crawling_list.append([product_name, number, df['date'].min(), df['date'].max(), end_date, len(df)])\n",
    "    print('{0} ~ {1} ({2})'.format(df['date'].min(), df['date'].max(), end_date))\n",
    "    print(f'{file_name} 저장완료!')\n",
    "    print('----'*10)"
   ]
  },
  {
   "cell_type": "markdown",
   "id": "4fbfead7",
   "metadata": {},
   "source": [
    "## 크롤링하기\n",
    "- cralwer함수\n",
    "    - number는 상품번호\n",
    "    - seconds는 스크롤내리는 초 설정\n",
    "- 설명\n",
    "\n",
    "\n",
    "20/05/28 ~ 21/12/06 (21/12/06)<br>\n",
    "Nike_x_Travis_Scott_SB_Dunk_Low_(Special_Box) 저장완료!<br>\n",
    "18번째 완료\n",
    "\n",
    "- 위와 같은 메시지가 나오는데 이걸 설명해줄게\n",
    "    - 20/05/28 ~ 21/12/06 (21/12/06) 여기서 앞은 우리가 추출한 최소,최대 날짜고, (괄호)안에 들어가는거는 최대날짜와 일치해야 모든 스크롤을 잘 돌린 것임.\n",
    "    - 저장이 완료되면 몇번째 상품인지도 나오니깐, 만약에 데이터가 너무 커서 n번째에 중단되었다면 다음번 실행때는 n번째부터 돌아가도록 하면됨.\n"
   ]
  },
  {
   "cell_type": "code",
   "execution_count": 368,
   "id": "d7b1238e",
   "metadata": {},
   "outputs": [
    {
     "ename": "IndexError",
     "evalue": "list index out of range",
     "output_type": "error",
     "traceback": [
      "\u001b[0;31m---------------------------------------------------------------------------\u001b[0m",
      "\u001b[0;31mIndexError\u001b[0m                                Traceback (most recent call last)",
      "\u001b[0;32m<ipython-input-368-18d36c03e2d4>\u001b[0m in \u001b[0;36m<module>\u001b[0;34m\u001b[0m\n\u001b[1;32m      8\u001b[0m     \u001b[0;32mif\u001b[0m \u001b[0mi\u001b[0m \u001b[0;34m>=\u001b[0m \u001b[0;36m38\u001b[0m\u001b[0;34m:\u001b[0m\u001b[0;34m\u001b[0m\u001b[0;34m\u001b[0m\u001b[0m\n\u001b[1;32m      9\u001b[0m         \u001b[0mnumber\u001b[0m \u001b[0;34m=\u001b[0m \u001b[0mlist312\u001b[0m\u001b[0;34m[\u001b[0m\u001b[0;34m'number'\u001b[0m\u001b[0;34m]\u001b[0m\u001b[0;34m[\u001b[0m\u001b[0mi\u001b[0m\u001b[0;34m]\u001b[0m\u001b[0;34m\u001b[0m\u001b[0;34m\u001b[0m\u001b[0m\n\u001b[0;32m---> 10\u001b[0;31m         \u001b[0mcrawler\u001b[0m\u001b[0;34m(\u001b[0m\u001b[0mnumber\u001b[0m\u001b[0;34m,\u001b[0m \u001b[0;36m5\u001b[0m\u001b[0;34m)\u001b[0m\u001b[0;34m\u001b[0m\u001b[0;34m\u001b[0m\u001b[0m\n\u001b[0m\u001b[1;32m     11\u001b[0m         \u001b[0mprint\u001b[0m\u001b[0;34m(\u001b[0m\u001b[0;34mf'{i}번째 {number} 크롤링 완료'\u001b[0m\u001b[0;34m)\u001b[0m\u001b[0;34m\u001b[0m\u001b[0;34m\u001b[0m\u001b[0m\n\u001b[1;32m     12\u001b[0m         \u001b[0mprint\u001b[0m\u001b[0;34m(\u001b[0m\u001b[0;34m'===='\u001b[0m\u001b[0;34m*\u001b[0m\u001b[0;36m10\u001b[0m\u001b[0;34m)\u001b[0m\u001b[0;34m\u001b[0m\u001b[0;34m\u001b[0m\u001b[0m\n",
      "\u001b[0;32m<ipython-input-361-076488b9e6de>\u001b[0m in \u001b[0;36mcrawler\u001b[0;34m(number, seconds)\u001b[0m\n\u001b[1;32m     21\u001b[0m     \u001b[0mrelease_price\u001b[0m \u001b[0;34m=\u001b[0m \u001b[0mcols\u001b[0m\u001b[0;34m[\u001b[0m\u001b[0mr3\u001b[0m\u001b[0;34m+\u001b[0m\u001b[0;36m3\u001b[0m\u001b[0;34m:\u001b[0m\u001b[0;34m]\u001b[0m\u001b[0;34m\u001b[0m\u001b[0;34m\u001b[0m\u001b[0m\n\u001b[1;32m     22\u001b[0m     \u001b[0;31m# end_date\u001b[0m\u001b[0;34m\u001b[0m\u001b[0;34m\u001b[0m\u001b[0;34m\u001b[0m\u001b[0m\n\u001b[0;32m---> 23\u001b[0;31m     \u001b[0mend_date\u001b[0m \u001b[0;34m=\u001b[0m \u001b[0msoup\u001b[0m\u001b[0;34m.\u001b[0m\u001b[0mselect\u001b[0m\u001b[0;34m(\u001b[0m\u001b[0;34m'td.table_td.align_right'\u001b[0m\u001b[0;34m)\u001b[0m\u001b[0;34m[\u001b[0m\u001b[0;36m1\u001b[0m\u001b[0;34m]\u001b[0m\u001b[0;34m.\u001b[0m\u001b[0mtext\u001b[0m\u001b[0;34m.\u001b[0m\u001b[0mreplace\u001b[0m\u001b[0;34m(\u001b[0m\u001b[0;34m'\\n'\u001b[0m\u001b[0;34m,\u001b[0m\u001b[0;34m''\u001b[0m\u001b[0;34m)\u001b[0m\u001b[0;34m.\u001b[0m\u001b[0mreplace\u001b[0m\u001b[0;34m(\u001b[0m\u001b[0;34m' '\u001b[0m\u001b[0;34m,\u001b[0m\u001b[0;34m''\u001b[0m\u001b[0;34m)\u001b[0m\u001b[0;34m\u001b[0m\u001b[0;34m\u001b[0m\u001b[0m\n\u001b[0m\u001b[1;32m     24\u001b[0m     \u001b[0;31m# 체결 내역 더보기 클릭 (copy Xpath)\u001b[0m\u001b[0;34m\u001b[0m\u001b[0;34m\u001b[0m\u001b[0;34m\u001b[0m\u001b[0m\n\u001b[1;32m     25\u001b[0m     \u001b[0mdriver\u001b[0m\u001b[0;34m.\u001b[0m\u001b[0mfind_element_by_xpath\u001b[0m\u001b[0;34m(\u001b[0m\u001b[0;34m'//*[@id=\"panel1\"]/a'\u001b[0m\u001b[0;34m)\u001b[0m\u001b[0;34m.\u001b[0m\u001b[0mclick\u001b[0m\u001b[0;34m(\u001b[0m\u001b[0;34m)\u001b[0m\u001b[0;34m\u001b[0m\u001b[0;34m\u001b[0m\u001b[0m\n",
      "\u001b[0;31mIndexError\u001b[0m: list index out of range"
     ]
    }
   ],
   "source": [
    "numbers = products['number']\n",
    "for i in range(len(numbers)):\n",
    "    if i >= 0:\n",
    "        number = numbers[i]\n",
    "        crawler(number, 100)\n",
    "        print(f'{i}번째 {number} 크롤링 완료')\n",
    "        print('===='*10)\n",
    "    else:\n",
    "        continue"
   ]
  },
  {
   "cell_type": "code",
   "execution_count": null,
   "id": "3133794a",
   "metadata": {},
   "outputs": [],
   "source": [
    "pd.DataFrame(crawling_list)"
   ]
  },
  {
   "cell_type": "markdown",
   "id": "6823c00a",
   "metadata": {},
   "source": [
    "#### 참고 문헌\n",
    "- https://hello-bryan.tistory.com/194,  https://jcstory94.tistory.com/69  스크롤다운 설명 링크\n",
    "- https://yganalyst.github.io/pythonic/memo_16_except/, https://medium.com/@peteryun/python-selenium%EC%9D%84-%ED%99%9C%EC%9A%A9%ED%95%9C-%ED%81%AC%EB%A1%A4%EB%9F%AC-%EB%A7%8C%EB%93%A4%EA%B8%B0-b055cefd1195 예외처리\n",
    "- https://yeko90.tistory.com/39 셀레니움 암시적 대기"
   ]
  },
  {
   "cell_type": "code",
   "execution_count": null,
   "id": "72e724b9",
   "metadata": {},
   "outputs": [],
   "source": []
  }
 ],
 "metadata": {
  "kernelspec": {
   "display_name": "Python 3",
   "language": "python",
   "name": "python3"
  },
  "language_info": {
   "codemirror_mode": {
    "name": "ipython",
    "version": 3
   },
   "file_extension": ".py",
   "mimetype": "text/x-python",
   "name": "python",
   "nbconvert_exporter": "python",
   "pygments_lexer": "ipython3",
   "version": "3.9.4"
  }
 },
 "nbformat": 4,
 "nbformat_minor": 5
}
