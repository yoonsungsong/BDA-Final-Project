{
 "cells": [
  {
   "cell_type": "markdown",
   "id": "0ebc4571",
   "metadata": {},
   "source": [
    "## Kream Products 크롤러\n",
    "- products 정보를 크롤링합니다.\n",
    "- 제품 목록\n",
    "    - nike dunk low\n",
    "    - nike dunk high\n",
    "    - nike air force 1\n",
    "    - nike air max 97\n",
    "    - jordan 1 low\n",
    "    - jordan 1 high\n",
    "    - adidas yeezy boost 350 v2\n",
    "    - adidas yeezy boost 700\n",
    "    - adidas yeezy 500\n",
    "    - new balance 992\n",
    "    - new balance 327\n",
    "    - new balance 2002"
   ]
  },
  {
   "cell_type": "code",
   "execution_count": 1,
   "id": "7be2f696",
   "metadata": {},
   "outputs": [],
   "source": [
    "import time\n",
    "import requests\n",
    "from bs4 import BeautifulSoup\n",
    "from selenium import webdriver\n",
    "from selenium.webdriver.common.keys import Keys\n",
    "\n",
    "import pandas as pd\n",
    "import numpy as np\n",
    "\n",
    "pd.options.display.max_rows=100\n",
    "pd.options.display.max_columns=100"
   ]
  },
  {
   "cell_type": "markdown",
   "id": "dde4478c",
   "metadata": {},
   "source": [
    "### 제품 리스트 생성"
   ]
  },
  {
   "cell_type": "code",
   "execution_count": 2,
   "id": "111822fe",
   "metadata": {},
   "outputs": [],
   "source": [
    "product = 'nike dunk'\n",
    "brand = 'Nike'\n",
    "category = 'Nike Dunk'\n",
    "# collection = '60'"
   ]
  },
  {
   "cell_type": "markdown",
   "id": "30a05d7c",
   "metadata": {},
   "source": [
    "### 크롤링 환경 설정"
   ]
  },
  {
   "cell_type": "code",
   "execution_count": 3,
   "id": "3c23f727",
   "metadata": {},
   "outputs": [
    {
     "name": "stderr",
     "output_type": "stream",
     "text": [
      "<ipython-input-3-8ffe0452779f>:2: DeprecationWarning: executable_path has been deprecated, please pass in a Service object\n",
      "  driver = webdriver.Chrome('./chromedriver')\n"
     ]
    }
   ],
   "source": [
    "# 크롬창 열기\n",
    "driver = webdriver.Chrome('./chromedriver')\n",
    "\n",
    "# 윈도우 사용자분들\n",
    "# driver = webdriver.Chrome('.//chromedriver.exe')"
   ]
  },
  {
   "cell_type": "code",
   "execution_count": 18,
   "id": "0f375ad1",
   "metadata": {},
   "outputs": [],
   "source": [
    "# product 검색결과 크림사이트 접속\n",
    "# url = 'https://kream.co.kr/search?category_id=1&tag_id[collection]={0}&sort=popular&per_page=40'.format(collection)\n",
    "url = 'https://kream.co.kr/search?category_id=1&keyword={0}&sort=popular&per_page=40'.format(product)\n",
    "driver.get(url)"
   ]
  },
  {
   "cell_type": "code",
   "execution_count": 4,
   "id": "4385a16f",
   "metadata": {},
   "outputs": [],
   "source": [
    "import datetime\n",
    "    \n",
    "def doScrollDown(whileSeconds):\n",
    "    start = datetime.datetime.now()\n",
    "    end = start + datetime.timedelta(seconds=whileSeconds)\n",
    "    while True:\n",
    "        driver.execute_script(\"window.scrollTo(0, document.body.scrollHeight)\")\n",
    "        time.sleep(1)\n",
    "        if datetime.datetime.now() > end:\n",
    "            break"
   ]
  },
  {
   "cell_type": "code",
   "execution_count": 5,
   "id": "04fd1d45",
   "metadata": {},
   "outputs": [],
   "source": [
    "doScrollDown(10)"
   ]
  },
  {
   "cell_type": "code",
   "execution_count": 6,
   "id": "8bd6e5ba",
   "metadata": {},
   "outputs": [],
   "source": [
    "html = driver.page_source\n",
    "soup = BeautifulSoup(html, 'html.parser')"
   ]
  },
  {
   "cell_type": "code",
   "execution_count": 11,
   "id": "ea1c3078",
   "metadata": {},
   "outputs": [],
   "source": [
    "product_k_list = []\n",
    "for item in soup.select('p.translated_name'):\n",
    "    product_k_list.append(item.text)"
   ]
  },
  {
   "cell_type": "code",
   "execution_count": 12,
   "id": "934cea6e",
   "metadata": {},
   "outputs": [],
   "source": [
    "number_list = []\n",
    "for item in soup.select('div.search_result_item > a.item_inner'):\n",
    "    number_list.append(item)\n",
    "product_list = []\n",
    "for item in soup.select('div.title > p.name'):\n",
    "    product_list.append(item.text)\n",
    "wish_list = []\n",
    "for item in soup.select('span.wish_figure'):\n",
    "    wish_list.append(item.text.replace(' ',''))\n",
    "review_list = []\n",
    "for item in soup.select('span.review_figure'):\n",
    "    review_list.append(item.text.replace(' ',''))"
   ]
  },
  {
   "cell_type": "code",
   "execution_count": 13,
   "id": "c9f765f3",
   "metadata": {},
   "outputs": [],
   "source": [
    "def number_extract(x):\n",
    "    r1 = str(x).find('products/')\n",
    "    r2 = str(x)[r1+9:].find('\"')\n",
    "    return str(x)[r1+9:r1+9+r2]"
   ]
  },
  {
   "cell_type": "code",
   "execution_count": 14,
   "id": "9d12abd3",
   "metadata": {},
   "outputs": [],
   "source": [
    "number_list = [number_extract(item) for item in number_list]"
   ]
  },
  {
   "cell_type": "code",
   "execution_count": 15,
   "id": "39c1a7aa",
   "metadata": {},
   "outputs": [],
   "source": [
    "df = pd.DataFrame({'product_k':product_k_list, 'product':product_list, 'brand':brand, 'category':category,  'number':number_list, 'wish':wish_list, 'review':review_list})"
   ]
  },
  {
   "cell_type": "code",
   "execution_count": 16,
   "id": "a5553926",
   "metadata": {},
   "outputs": [
    {
     "data": {
      "text/html": [
       "<div>\n",
       "<style scoped>\n",
       "    .dataframe tbody tr th:only-of-type {\n",
       "        vertical-align: middle;\n",
       "    }\n",
       "\n",
       "    .dataframe tbody tr th {\n",
       "        vertical-align: top;\n",
       "    }\n",
       "\n",
       "    .dataframe thead th {\n",
       "        text-align: right;\n",
       "    }\n",
       "</style>\n",
       "<table border=\"1\" class=\"dataframe\">\n",
       "  <thead>\n",
       "    <tr style=\"text-align: right;\">\n",
       "      <th></th>\n",
       "      <th>product_k</th>\n",
       "      <th>product</th>\n",
       "      <th>brand</th>\n",
       "      <th>category</th>\n",
       "      <th>number</th>\n",
       "      <th>wish</th>\n",
       "      <th>review</th>\n",
       "    </tr>\n",
       "  </thead>\n",
       "  <tbody>\n",
       "    <tr>\n",
       "      <th>0</th>\n",
       "      <td>나이키 덩크 로우 레트로 블랙</td>\n",
       "      <td>Nike Dunk Low Retro Black</td>\n",
       "      <td>Nike</td>\n",
       "      <td>Nike Dunk</td>\n",
       "      <td>28029</td>\n",
       "      <td>5.3만</td>\n",
       "      <td>7,883</td>\n",
       "    </tr>\n",
       "    <tr>\n",
       "      <th>1</th>\n",
       "      <td>(W) 나이키 덩크 로우 블랙</td>\n",
       "      <td>(W) Nike Dunk Low Black</td>\n",
       "      <td>Nike</td>\n",
       "      <td>Nike Dunk</td>\n",
       "      <td>28030</td>\n",
       "      <td>3.9만</td>\n",
       "      <td>2,969</td>\n",
       "    </tr>\n",
       "    <tr>\n",
       "      <th>2</th>\n",
       "      <td>(W) 나이키 덩크 로우 베니스</td>\n",
       "      <td>(W) Nike Dunk Low Venice</td>\n",
       "      <td>Nike</td>\n",
       "      <td>Nike Dunk</td>\n",
       "      <td>47877</td>\n",
       "      <td>3,057</td>\n",
       "      <td>33</td>\n",
       "    </tr>\n",
       "    <tr>\n",
       "      <th>3</th>\n",
       "      <td>나이키 덩크 로우 프리미엄 시엠프레 파밀리아</td>\n",
       "      <td>Nike Dunk Low Premium Siempre Familia</td>\n",
       "      <td>Nike</td>\n",
       "      <td>Nike Dunk</td>\n",
       "      <td>47119</td>\n",
       "      <td>1,025</td>\n",
       "      <td>26</td>\n",
       "    </tr>\n",
       "    <tr>\n",
       "      <th>4</th>\n",
       "      <td>(GS) 나이키 덩크 로우 블랙</td>\n",
       "      <td>(GS) Nike Dunk Low Black</td>\n",
       "      <td>Nike</td>\n",
       "      <td>Nike Dunk</td>\n",
       "      <td>28229</td>\n",
       "      <td>1.7만</td>\n",
       "      <td>1,063</td>\n",
       "    </tr>\n",
       "    <tr>\n",
       "      <th>...</th>\n",
       "      <td>...</td>\n",
       "      <td>...</td>\n",
       "      <td>...</td>\n",
       "      <td>...</td>\n",
       "      <td>...</td>\n",
       "      <td>...</td>\n",
       "      <td>...</td>\n",
       "    </tr>\n",
       "    <tr>\n",
       "      <th>355</th>\n",
       "      <td>(W) 나이키 덩크 로우 디스럽트 파이어크래커</td>\n",
       "      <td>(W) Nike Dunk Low Disrupt Firecracker</td>\n",
       "      <td>Nike</td>\n",
       "      <td>Nike Dunk</td>\n",
       "      <td>29013</td>\n",
       "      <td>170</td>\n",
       "      <td>4</td>\n",
       "    </tr>\n",
       "    <tr>\n",
       "      <th>356</th>\n",
       "      <td>(PS) 나이키 덩크 하이 레트로 바스트 그레이</td>\n",
       "      <td>(PS) Nike Dunk High Retro Vast Grey</td>\n",
       "      <td>Nike</td>\n",
       "      <td>Nike Dunk</td>\n",
       "      <td>29654</td>\n",
       "      <td>476</td>\n",
       "      <td>8</td>\n",
       "    </tr>\n",
       "    <tr>\n",
       "      <th>357</th>\n",
       "      <td>(PS) 나이키 x 션 클리버 SB 덩크 로우 홀리데이 스페셜</td>\n",
       "      <td>(PS) Nike x Sean Cliver SB Dunk Low Holiday Sp...</td>\n",
       "      <td>Nike</td>\n",
       "      <td>Nike Dunk</td>\n",
       "      <td>27472</td>\n",
       "      <td>166</td>\n",
       "      <td>6</td>\n",
       "    </tr>\n",
       "    <tr>\n",
       "      <th>358</th>\n",
       "      <td>(PS) 나이키 x 메디콤 토이 SB 덩크 로우 베어브릭</td>\n",
       "      <td>(PS) Nike x Medicom Toy SB Dunk Low BE@RBRICK</td>\n",
       "      <td>Nike</td>\n",
       "      <td>Nike Dunk</td>\n",
       "      <td>25778</td>\n",
       "      <td>11</td>\n",
       "      <td>0</td>\n",
       "    </tr>\n",
       "    <tr>\n",
       "      <th>359</th>\n",
       "      <td>나이키 SB 덩크 로우 인프라레드 (오렌지 라벨)</td>\n",
       "      <td>Nike SB Dunk Low Infrared (Orange Label)</td>\n",
       "      <td>Nike</td>\n",
       "      <td>Nike Dunk</td>\n",
       "      <td>23393</td>\n",
       "      <td>279</td>\n",
       "      <td>12</td>\n",
       "    </tr>\n",
       "  </tbody>\n",
       "</table>\n",
       "<p>360 rows × 7 columns</p>\n",
       "</div>"
      ],
      "text/plain": [
       "                              product_k  \\\n",
       "0                      나이키 덩크 로우 레트로 블랙   \n",
       "1                      (W) 나이키 덩크 로우 블랙   \n",
       "2                     (W) 나이키 덩크 로우 베니스   \n",
       "3              나이키 덩크 로우 프리미엄 시엠프레 파밀리아   \n",
       "4                     (GS) 나이키 덩크 로우 블랙   \n",
       "..                                  ...   \n",
       "355           (W) 나이키 덩크 로우 디스럽트 파이어크래커   \n",
       "356          (PS) 나이키 덩크 하이 레트로 바스트 그레이   \n",
       "357  (PS) 나이키 x 션 클리버 SB 덩크 로우 홀리데이 스페셜   \n",
       "358     (PS) 나이키 x 메디콤 토이 SB 덩크 로우 베어브릭   \n",
       "359         나이키 SB 덩크 로우 인프라레드 (오렌지 라벨)   \n",
       "\n",
       "                                               product brand   category  \\\n",
       "0                            Nike Dunk Low Retro Black  Nike  Nike Dunk   \n",
       "1                              (W) Nike Dunk Low Black  Nike  Nike Dunk   \n",
       "2                             (W) Nike Dunk Low Venice  Nike  Nike Dunk   \n",
       "3                Nike Dunk Low Premium Siempre Familia  Nike  Nike Dunk   \n",
       "4                             (GS) Nike Dunk Low Black  Nike  Nike Dunk   \n",
       "..                                                 ...   ...        ...   \n",
       "355              (W) Nike Dunk Low Disrupt Firecracker  Nike  Nike Dunk   \n",
       "356                (PS) Nike Dunk High Retro Vast Grey  Nike  Nike Dunk   \n",
       "357  (PS) Nike x Sean Cliver SB Dunk Low Holiday Sp...  Nike  Nike Dunk   \n",
       "358      (PS) Nike x Medicom Toy SB Dunk Low BE@RBRICK  Nike  Nike Dunk   \n",
       "359           Nike SB Dunk Low Infrared (Orange Label)  Nike  Nike Dunk   \n",
       "\n",
       "    number   wish review  \n",
       "0    28029   5.3만  7,883  \n",
       "1    28030   3.9만  2,969  \n",
       "2    47877  3,057     33  \n",
       "3    47119  1,025     26  \n",
       "4    28229   1.7만  1,063  \n",
       "..     ...    ...    ...  \n",
       "355  29013    170      4  \n",
       "356  29654    476      8  \n",
       "357  27472    166      6  \n",
       "358  25778     11      0  \n",
       "359  23393    279     12  \n",
       "\n",
       "[360 rows x 7 columns]"
      ]
     },
     "execution_count": 16,
     "metadata": {},
     "output_type": "execute_result"
    }
   ],
   "source": [
    "df"
   ]
  },
  {
   "cell_type": "code",
   "execution_count": 17,
   "id": "2357cc53",
   "metadata": {},
   "outputs": [],
   "source": [
    "df.to_csv('data/products/products_{0}2.csv'.format(product.replace(' ','_')))"
   ]
  },
  {
   "cell_type": "code",
   "execution_count": null,
   "id": "e91159eb",
   "metadata": {},
   "outputs": [],
   "source": []
  }
 ],
 "metadata": {
  "kernelspec": {
   "display_name": "Python 3",
   "language": "python",
   "name": "python3"
  },
  "language_info": {
   "codemirror_mode": {
    "name": "ipython",
    "version": 3
   },
   "file_extension": ".py",
   "mimetype": "text/x-python",
   "name": "python",
   "nbconvert_exporter": "python",
   "pygments_lexer": "ipython3",
   "version": "3.9.4"
  }
 },
 "nbformat": 4,
 "nbformat_minor": 5
}
