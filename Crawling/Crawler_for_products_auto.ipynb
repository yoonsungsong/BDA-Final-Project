{
 "cells": [
  {
   "cell_type": "markdown",
   "id": "0ebc4571",
   "metadata": {},
   "source": [
    "## Kream Products 크롤러\n",
    "- products 정보를 크롤링합니다."
   ]
  },
  {
   "cell_type": "code",
   "execution_count": 1,
   "id": "7be2f696",
   "metadata": {},
   "outputs": [],
   "source": [
    "import time\n",
    "import requests\n",
    "from bs4 import BeautifulSoup\n",
    "from selenium import webdriver\n",
    "from selenium.webdriver.common.keys import Keys\n",
    "\n",
    "import pandas as pd\n",
    "import numpy as np\n",
    "\n",
    "pd.options.display.max_rows=100\n",
    "pd.options.display.max_columns=100"
   ]
  },
  {
   "cell_type": "markdown",
   "id": "f7b6763d",
   "metadata": {},
   "source": [
    "## 크롬 드라이버 - 크림 - 스니커즈 컬렉션 선택"
   ]
  },
  {
   "cell_type": "code",
   "execution_count": 2,
   "id": "64ee3ade",
   "metadata": {},
   "outputs": [
    {
     "name": "stderr",
     "output_type": "stream",
     "text": [
      "<ipython-input-2-a7460146a732>:2: DeprecationWarning: executable_path has been deprecated, please pass in a Service object\n",
      "  driver = webdriver.Chrome('./chromedriver')\n"
     ]
    }
   ],
   "source": [
    "# 크롬 드라이버\n",
    "driver = webdriver.Chrome('./chromedriver')"
   ]
  },
  {
   "cell_type": "code",
   "execution_count": 6,
   "id": "92489945",
   "metadata": {},
   "outputs": [],
   "source": [
    "# 크림 페이지\n",
    "url = 'https://kream.co.kr/search?category_id=1&sort=popular&per_page=40'\n",
    "driver.get(url)"
   ]
  },
  {
   "cell_type": "code",
   "execution_count": 7,
   "id": "3909f2a2",
   "metadata": {},
   "outputs": [
    {
     "name": "stderr",
     "output_type": "stream",
     "text": [
      "<ipython-input-7-f1d64af30c17>:1: DeprecationWarning: find_element_by_* commands are deprecated. Please use find_element() instead\n",
      "  driver.find_element_by_xpath('//*[@id=\"__layout\"]/div/div[2]/div[5]/div[1]/div[5]/div[1]').click()\n"
     ]
    }
   ],
   "source": [
    "# 컬렉션 창 열기\n",
    "driver.find_element_by_xpath('//*[@id=\"__layout\"]/div/div[2]/div[5]/div[1]/div[5]/div[1]').click()"
   ]
  },
  {
   "cell_type": "markdown",
   "id": "dde4478c",
   "metadata": {},
   "source": [
    "## 제품 리스트 생성"
   ]
  },
  {
   "cell_type": "code",
   "execution_count": 36,
   "id": "88bc2727",
   "metadata": {},
   "outputs": [],
   "source": [
    "html = driver.page_source\n",
    "soup = BeautifulSoup(html, 'html.parser')"
   ]
  },
  {
   "cell_type": "code",
   "execution_count": 37,
   "id": "25f7c44d",
   "metadata": {},
   "outputs": [
    {
     "data": {
      "text/plain": [
       "<a data-v-7ba69ab6=\"\" href=\"https://apps.apple.com/app/id1490580239\" itemprop=\"sameAs\"></a>"
      ]
     },
     "execution_count": 37,
     "metadata": {},
     "output_type": "execute_result"
    }
   ],
   "source": [
    "soup.find(\"a\")"
   ]
  },
  {
   "cell_type": "code",
   "execution_count": 40,
   "id": "c21aebf5",
   "metadata": {},
   "outputs": [
    {
     "data": {
      "text/plain": [
       "[<a class=\"menu_link\" data-v-497816de=\"\" href=\"#\"><svg class=\"icon sprite-icons checkbox-active\" data-v-497816de=\"\" xmlns=\"http://www.w3.org/2000/svg\"><use data-v-497816de=\"\" href=\"/_nuxt/cfd590865a821f881a56a77f46791162.svg#i-checkbox-active\" xlink:href=\"/_nuxt/cfd590865a821f881a56a77f46791162.svg#i-checkbox-active\"></use></svg> <span class=\"link_txt\" data-v-497816de=\"\">스니커즈</span></a>,\n",
       " <a class=\"menu_link\" data-v-497816de=\"\" href=\"#\"><svg class=\"icon sprite-icons checkbox-inactive\" data-v-497816de=\"\" xmlns=\"http://www.w3.org/2000/svg\"><use data-v-497816de=\"\" href=\"/_nuxt/cfd590865a821f881a56a77f46791162.svg#i-checkbox-inactive\" xlink:href=\"/_nuxt/cfd590865a821f881a56a77f46791162.svg#i-checkbox-inactive\"></use></svg> <span class=\"link_txt\" data-v-497816de=\"\">의류</span></a>,\n",
       " <a class=\"menu_link\" data-v-497816de=\"\" href=\"#\"><svg class=\"icon sprite-icons checkbox-inactive\" data-v-497816de=\"\" xmlns=\"http://www.w3.org/2000/svg\"><use data-v-497816de=\"\" href=\"/_nuxt/cfd590865a821f881a56a77f46791162.svg#i-checkbox-inactive\" xlink:href=\"/_nuxt/cfd590865a821f881a56a77f46791162.svg#i-checkbox-inactive\"></use></svg> <span class=\"link_txt\" data-v-497816de=\"\">아우터</span></a>,\n",
       " <a class=\"menu_link\" data-v-497816de=\"\" href=\"#\"><svg class=\"icon sprite-icons checkbox-inactive\" data-v-497816de=\"\" xmlns=\"http://www.w3.org/2000/svg\"><use data-v-497816de=\"\" href=\"/_nuxt/cfd590865a821f881a56a77f46791162.svg#i-checkbox-inactive\" xlink:href=\"/_nuxt/cfd590865a821f881a56a77f46791162.svg#i-checkbox-inactive\"></use></svg> <span class=\"link_txt\" data-v-497816de=\"\">상의</span></a>,\n",
       " <a class=\"menu_link\" data-v-497816de=\"\" href=\"#\"><svg class=\"icon sprite-icons checkbox-inactive\" data-v-497816de=\"\" xmlns=\"http://www.w3.org/2000/svg\"><use data-v-497816de=\"\" href=\"/_nuxt/cfd590865a821f881a56a77f46791162.svg#i-checkbox-inactive\" xlink:href=\"/_nuxt/cfd590865a821f881a56a77f46791162.svg#i-checkbox-inactive\"></use></svg> <span class=\"link_txt\" data-v-497816de=\"\">하의</span></a>,\n",
       " <a class=\"menu_link\" data-v-497816de=\"\" href=\"#\"><svg class=\"icon sprite-icons checkbox-inactive\" data-v-497816de=\"\" xmlns=\"http://www.w3.org/2000/svg\"><use data-v-497816de=\"\" href=\"/_nuxt/cfd590865a821f881a56a77f46791162.svg#i-checkbox-inactive\" xlink:href=\"/_nuxt/cfd590865a821f881a56a77f46791162.svg#i-checkbox-inactive\"></use></svg> <span class=\"link_txt\" data-v-497816de=\"\">기타</span></a>,\n",
       " <a class=\"menu_link\" data-v-497816de=\"\" href=\"#\"><svg class=\"icon sprite-icons checkbox-inactive\" data-v-497816de=\"\" xmlns=\"http://www.w3.org/2000/svg\"><use data-v-497816de=\"\" href=\"/_nuxt/cfd590865a821f881a56a77f46791162.svg#i-checkbox-inactive\" xlink:href=\"/_nuxt/cfd590865a821f881a56a77f46791162.svg#i-checkbox-inactive\"></use></svg> <span class=\"link_txt\" data-v-497816de=\"\">패션 잡화</span></a>,\n",
       " <a class=\"menu_link\" data-v-497816de=\"\" href=\"#\"><svg class=\"icon sprite-icons checkbox-inactive\" data-v-497816de=\"\" xmlns=\"http://www.w3.org/2000/svg\"><use data-v-497816de=\"\" href=\"/_nuxt/cfd590865a821f881a56a77f46791162.svg#i-checkbox-inactive\" xlink:href=\"/_nuxt/cfd590865a821f881a56a77f46791162.svg#i-checkbox-inactive\"></use></svg> <span class=\"link_txt\" data-v-497816de=\"\">프리미엄시계</span></a>,\n",
       " <a class=\"menu_link\" data-v-497816de=\"\" href=\"#\"><svg class=\"icon sprite-icons checkbox-inactive\" data-v-497816de=\"\" xmlns=\"http://www.w3.org/2000/svg\"><use data-v-497816de=\"\" href=\"/_nuxt/cfd590865a821f881a56a77f46791162.svg#i-checkbox-inactive\" xlink:href=\"/_nuxt/cfd590865a821f881a56a77f46791162.svg#i-checkbox-inactive\"></use></svg> <span class=\"link_txt\" data-v-497816de=\"\">프리미엄가방</span></a>,\n",
       " <a class=\"menu_link\" data-v-497816de=\"\" href=\"#\"><svg class=\"icon sprite-icons checkbox-inactive\" data-v-497816de=\"\" xmlns=\"http://www.w3.org/2000/svg\"><use data-v-497816de=\"\" href=\"/_nuxt/cfd590865a821f881a56a77f46791162.svg#i-checkbox-inactive\" xlink:href=\"/_nuxt/cfd590865a821f881a56a77f46791162.svg#i-checkbox-inactive\"></use></svg> <span class=\"link_txt\" data-v-497816de=\"\">가방</span></a>,\n",
       " <a class=\"menu_link\" data-v-497816de=\"\" href=\"#\"><svg class=\"icon sprite-icons checkbox-inactive\" data-v-497816de=\"\" xmlns=\"http://www.w3.org/2000/svg\"><use data-v-497816de=\"\" href=\"/_nuxt/cfd590865a821f881a56a77f46791162.svg#i-checkbox-inactive\" xlink:href=\"/_nuxt/cfd590865a821f881a56a77f46791162.svg#i-checkbox-inactive\"></use></svg> <span class=\"link_txt\" data-v-497816de=\"\">스몰레더</span></a>,\n",
       " <a class=\"menu_link\" data-v-497816de=\"\" href=\"#\"><svg class=\"icon sprite-icons checkbox-inactive\" data-v-497816de=\"\" xmlns=\"http://www.w3.org/2000/svg\"><use data-v-497816de=\"\" href=\"/_nuxt/cfd590865a821f881a56a77f46791162.svg#i-checkbox-inactive\" xlink:href=\"/_nuxt/cfd590865a821f881a56a77f46791162.svg#i-checkbox-inactive\"></use></svg> <span class=\"link_txt\" data-v-497816de=\"\">모자</span></a>,\n",
       " <a class=\"menu_link\" data-v-497816de=\"\" href=\"#\"><svg class=\"icon sprite-icons checkbox-inactive\" data-v-497816de=\"\" xmlns=\"http://www.w3.org/2000/svg\"><use data-v-497816de=\"\" href=\"/_nuxt/cfd590865a821f881a56a77f46791162.svg#i-checkbox-inactive\" xlink:href=\"/_nuxt/cfd590865a821f881a56a77f46791162.svg#i-checkbox-inactive\"></use></svg> <span class=\"link_txt\" data-v-497816de=\"\">기타</span></a>,\n",
       " <a class=\"menu_link\" data-v-497816de=\"\" href=\"#\"><svg class=\"icon sprite-icons checkbox-inactive\" data-v-497816de=\"\" xmlns=\"http://www.w3.org/2000/svg\"><use data-v-497816de=\"\" href=\"/_nuxt/cfd590865a821f881a56a77f46791162.svg#i-checkbox-inactive\" xlink:href=\"/_nuxt/cfd590865a821f881a56a77f46791162.svg#i-checkbox-inactive\"></use></svg> <span class=\"link_txt\" data-v-497816de=\"\">라이프</span></a>,\n",
       " <a class=\"menu_link\" data-v-497816de=\"\" href=\"#\"><svg class=\"icon sprite-icons checkbox-inactive\" data-v-497816de=\"\" xmlns=\"http://www.w3.org/2000/svg\"><use data-v-497816de=\"\" href=\"/_nuxt/cfd590865a821f881a56a77f46791162.svg#i-checkbox-inactive\" xlink:href=\"/_nuxt/cfd590865a821f881a56a77f46791162.svg#i-checkbox-inactive\"></use></svg> <span class=\"link_txt\" data-v-497816de=\"\">테크</span></a>,\n",
       " <a class=\"menu_link\" data-v-497816de=\"\" href=\"#\"><svg class=\"icon sprite-icons checkbox-inactive\" data-v-497816de=\"\" xmlns=\"http://www.w3.org/2000/svg\"><use data-v-497816de=\"\" href=\"/_nuxt/cfd590865a821f881a56a77f46791162.svg#i-checkbox-inactive\" xlink:href=\"/_nuxt/cfd590865a821f881a56a77f46791162.svg#i-checkbox-inactive\"></use></svg> <span class=\"link_txt\" data-v-497816de=\"\">그래픽카드</span></a>,\n",
       " <a class=\"menu_link\" data-v-497816de=\"\" href=\"#\"><svg class=\"icon sprite-icons checkbox-inactive\" data-v-497816de=\"\" xmlns=\"http://www.w3.org/2000/svg\"><use data-v-497816de=\"\" href=\"/_nuxt/cfd590865a821f881a56a77f46791162.svg#i-checkbox-inactive\" xlink:href=\"/_nuxt/cfd590865a821f881a56a77f46791162.svg#i-checkbox-inactive\"></use></svg> <span class=\"link_txt\" data-v-497816de=\"\">게임기</span></a>,\n",
       " <a class=\"menu_link\" data-v-497816de=\"\" href=\"#\"><svg class=\"icon sprite-icons checkbox-inactive\" data-v-497816de=\"\" xmlns=\"http://www.w3.org/2000/svg\"><use data-v-497816de=\"\" href=\"/_nuxt/cfd590865a821f881a56a77f46791162.svg#i-checkbox-inactive\" xlink:href=\"/_nuxt/cfd590865a821f881a56a77f46791162.svg#i-checkbox-inactive\"></use></svg> <span class=\"link_txt\" data-v-497816de=\"\">기타</span></a>,\n",
       " <a class=\"menu_link\" data-v-497816de=\"\" href=\"#\"><svg class=\"icon sprite-icons checkbox-inactive\" data-v-497816de=\"\" xmlns=\"http://www.w3.org/2000/svg\"><use data-v-497816de=\"\" href=\"/_nuxt/cfd590865a821f881a56a77f46791162.svg#i-checkbox-inactive\" xlink:href=\"/_nuxt/cfd590865a821f881a56a77f46791162.svg#i-checkbox-inactive\"></use></svg> <span class=\"link_txt\" data-v-497816de=\"\">A.P.C.</span></a>,\n",
       " <a class=\"menu_link\" data-v-497816de=\"\" href=\"#\"><svg class=\"icon sprite-icons checkbox-inactive\" data-v-497816de=\"\" xmlns=\"http://www.w3.org/2000/svg\"><use data-v-497816de=\"\" href=\"/_nuxt/cfd590865a821f881a56a77f46791162.svg#i-checkbox-inactive\" xlink:href=\"/_nuxt/cfd590865a821f881a56a77f46791162.svg#i-checkbox-inactive\"></use></svg> <span class=\"link_txt\" data-v-497816de=\"\">Acne Studios</span></a>,\n",
       " <a class=\"menu_link\" data-v-497816de=\"\" href=\"#\"><svg class=\"icon sprite-icons checkbox-inactive\" data-v-497816de=\"\" xmlns=\"http://www.w3.org/2000/svg\"><use data-v-497816de=\"\" href=\"/_nuxt/cfd590865a821f881a56a77f46791162.svg#i-checkbox-inactive\" xlink:href=\"/_nuxt/cfd590865a821f881a56a77f46791162.svg#i-checkbox-inactive\"></use></svg> <span class=\"link_txt\" data-v-497816de=\"\">Ader Error</span></a>,\n",
       " <a class=\"menu_link\" data-v-497816de=\"\" href=\"#\"><svg class=\"icon sprite-icons checkbox-inactive\" data-v-497816de=\"\" xmlns=\"http://www.w3.org/2000/svg\"><use data-v-497816de=\"\" href=\"/_nuxt/cfd590865a821f881a56a77f46791162.svg#i-checkbox-inactive\" xlink:href=\"/_nuxt/cfd590865a821f881a56a77f46791162.svg#i-checkbox-inactive\"></use></svg> <span class=\"link_txt\" data-v-497816de=\"\">Adidas</span></a>,\n",
       " <a class=\"menu_link\" data-v-497816de=\"\" href=\"#\"><svg class=\"icon sprite-icons checkbox-inactive\" data-v-497816de=\"\" xmlns=\"http://www.w3.org/2000/svg\"><use data-v-497816de=\"\" href=\"/_nuxt/cfd590865a821f881a56a77f46791162.svg#i-checkbox-inactive\" xlink:href=\"/_nuxt/cfd590865a821f881a56a77f46791162.svg#i-checkbox-inactive\"></use></svg> <span class=\"link_txt\" data-v-497816de=\"\">Alexander McQueen</span></a>,\n",
       " <a class=\"menu_link\" data-v-497816de=\"\" href=\"#\"><svg class=\"icon sprite-icons checkbox-inactive\" data-v-497816de=\"\" xmlns=\"http://www.w3.org/2000/svg\"><use data-v-497816de=\"\" href=\"/_nuxt/cfd590865a821f881a56a77f46791162.svg#i-checkbox-inactive\" xlink:href=\"/_nuxt/cfd590865a821f881a56a77f46791162.svg#i-checkbox-inactive\"></use></svg> <span class=\"link_txt\" data-v-497816de=\"\">Ambush</span></a>,\n",
       " <a class=\"menu_link\" data-v-497816de=\"\" href=\"#\"><svg class=\"icon sprite-icons checkbox-inactive\" data-v-497816de=\"\" xmlns=\"http://www.w3.org/2000/svg\"><use data-v-497816de=\"\" href=\"/_nuxt/cfd590865a821f881a56a77f46791162.svg#i-checkbox-inactive\" xlink:href=\"/_nuxt/cfd590865a821f881a56a77f46791162.svg#i-checkbox-inactive\"></use></svg> <span class=\"link_txt\" data-v-497816de=\"\">AMI</span></a>,\n",
       " <a class=\"menu_link\" data-v-497816de=\"\" href=\"#\"><svg class=\"icon sprite-icons checkbox-inactive\" data-v-497816de=\"\" xmlns=\"http://www.w3.org/2000/svg\"><use data-v-497816de=\"\" href=\"/_nuxt/cfd590865a821f881a56a77f46791162.svg#i-checkbox-inactive\" xlink:href=\"/_nuxt/cfd590865a821f881a56a77f46791162.svg#i-checkbox-inactive\"></use></svg> <span class=\"link_txt\" data-v-497816de=\"\">Anti Social Social Club</span></a>,\n",
       " <a class=\"menu_link\" data-v-497816de=\"\" href=\"#\"><svg class=\"icon sprite-icons checkbox-inactive\" data-v-497816de=\"\" xmlns=\"http://www.w3.org/2000/svg\"><use data-v-497816de=\"\" href=\"/_nuxt/cfd590865a821f881a56a77f46791162.svg#i-checkbox-inactive\" xlink:href=\"/_nuxt/cfd590865a821f881a56a77f46791162.svg#i-checkbox-inactive\"></use></svg> <span class=\"link_txt\" data-v-497816de=\"\">Arc'teryx</span></a>,\n",
       " <a class=\"menu_link\" data-v-497816de=\"\" href=\"#\"><svg class=\"icon sprite-icons checkbox-inactive\" data-v-497816de=\"\" xmlns=\"http://www.w3.org/2000/svg\"><use data-v-497816de=\"\" href=\"/_nuxt/cfd590865a821f881a56a77f46791162.svg#i-checkbox-inactive\" xlink:href=\"/_nuxt/cfd590865a821f881a56a77f46791162.svg#i-checkbox-inactive\"></use></svg> <span class=\"link_txt\" data-v-497816de=\"\">Asics</span></a>,\n",
       " <a class=\"menu_link\" data-v-497816de=\"\" href=\"#\"><svg class=\"icon sprite-icons checkbox-inactive\" data-v-497816de=\"\" xmlns=\"http://www.w3.org/2000/svg\"><use data-v-497816de=\"\" href=\"/_nuxt/cfd590865a821f881a56a77f46791162.svg#i-checkbox-inactive\" xlink:href=\"/_nuxt/cfd590865a821f881a56a77f46791162.svg#i-checkbox-inactive\"></use></svg> <span class=\"link_txt\" data-v-497816de=\"\">Autry</span></a>,\n",
       " <a class=\"menu_link\" data-v-497816de=\"\" href=\"#\"><svg class=\"icon sprite-icons checkbox-inactive\" data-v-497816de=\"\" xmlns=\"http://www.w3.org/2000/svg\"><use data-v-497816de=\"\" href=\"/_nuxt/cfd590865a821f881a56a77f46791162.svg#i-checkbox-inactive\" xlink:href=\"/_nuxt/cfd590865a821f881a56a77f46791162.svg#i-checkbox-inactive\"></use></svg> <span class=\"link_txt\" data-v-497816de=\"\">Axel Arigato</span></a>,\n",
       " <a class=\"menu_link\" data-v-497816de=\"\" href=\"#\"><svg class=\"icon sprite-icons checkbox-inactive\" data-v-497816de=\"\" xmlns=\"http://www.w3.org/2000/svg\"><use data-v-497816de=\"\" href=\"/_nuxt/cfd590865a821f881a56a77f46791162.svg#i-checkbox-inactive\" xlink:href=\"/_nuxt/cfd590865a821f881a56a77f46791162.svg#i-checkbox-inactive\"></use></svg> <span class=\"link_txt\" data-v-497816de=\"\">Balenciaga</span></a>,\n",
       " <a class=\"menu_link\" data-v-497816de=\"\" href=\"#\"><svg class=\"icon sprite-icons checkbox-inactive\" data-v-497816de=\"\" xmlns=\"http://www.w3.org/2000/svg\"><use data-v-497816de=\"\" href=\"/_nuxt/cfd590865a821f881a56a77f46791162.svg#i-checkbox-inactive\" xlink:href=\"/_nuxt/cfd590865a821f881a56a77f46791162.svg#i-checkbox-inactive\"></use></svg> <span class=\"link_txt\" data-v-497816de=\"\">BAPE</span></a>,\n",
       " <a class=\"menu_link\" data-v-497816de=\"\" href=\"#\"><svg class=\"icon sprite-icons checkbox-inactive\" data-v-497816de=\"\" xmlns=\"http://www.w3.org/2000/svg\"><use data-v-497816de=\"\" href=\"/_nuxt/cfd590865a821f881a56a77f46791162.svg#i-checkbox-inactive\" xlink:href=\"/_nuxt/cfd590865a821f881a56a77f46791162.svg#i-checkbox-inactive\"></use></svg> <span class=\"link_txt\" data-v-497816de=\"\">Barbour</span></a>,\n",
       " <a class=\"menu_link\" data-v-497816de=\"\" href=\"#\"><svg class=\"icon sprite-icons checkbox-inactive\" data-v-497816de=\"\" xmlns=\"http://www.w3.org/2000/svg\"><use data-v-497816de=\"\" href=\"/_nuxt/cfd590865a821f881a56a77f46791162.svg#i-checkbox-inactive\" xlink:href=\"/_nuxt/cfd590865a821f881a56a77f46791162.svg#i-checkbox-inactive\"></use></svg> <span class=\"link_txt\" data-v-497816de=\"\">Bearbrick</span></a>,\n",
       " <a class=\"menu_link\" data-v-497816de=\"\" href=\"#\"><svg class=\"icon sprite-icons checkbox-inactive\" data-v-497816de=\"\" xmlns=\"http://www.w3.org/2000/svg\"><use data-v-497816de=\"\" href=\"/_nuxt/cfd590865a821f881a56a77f46791162.svg#i-checkbox-inactive\" xlink:href=\"/_nuxt/cfd590865a821f881a56a77f46791162.svg#i-checkbox-inactive\"></use></svg> <span class=\"link_txt\" data-v-497816de=\"\">Birkenstock</span></a>,\n",
       " <a class=\"menu_link\" data-v-497816de=\"\" href=\"#\"><svg class=\"icon sprite-icons checkbox-inactive\" data-v-497816de=\"\" xmlns=\"http://www.w3.org/2000/svg\"><use data-v-497816de=\"\" href=\"/_nuxt/cfd590865a821f881a56a77f46791162.svg#i-checkbox-inactive\" xlink:href=\"/_nuxt/cfd590865a821f881a56a77f46791162.svg#i-checkbox-inactive\"></use></svg> <span class=\"link_txt\" data-v-497816de=\"\">Bottega Veneta</span></a>,\n",
       " <a class=\"menu_link\" data-v-497816de=\"\" href=\"#\"><svg class=\"icon sprite-icons checkbox-inactive\" data-v-497816de=\"\" xmlns=\"http://www.w3.org/2000/svg\"><use data-v-497816de=\"\" href=\"/_nuxt/cfd590865a821f881a56a77f46791162.svg#i-checkbox-inactive\" xlink:href=\"/_nuxt/cfd590865a821f881a56a77f46791162.svg#i-checkbox-inactive\"></use></svg> <span class=\"link_txt\" data-v-497816de=\"\">Burberry</span></a>,\n",
       " <a class=\"menu_link\" data-v-497816de=\"\" href=\"#\"><svg class=\"icon sprite-icons checkbox-inactive\" data-v-497816de=\"\" xmlns=\"http://www.w3.org/2000/svg\"><use data-v-497816de=\"\" href=\"/_nuxt/cfd590865a821f881a56a77f46791162.svg#i-checkbox-inactive\" xlink:href=\"/_nuxt/cfd590865a821f881a56a77f46791162.svg#i-checkbox-inactive\"></use></svg> <span class=\"link_txt\" data-v-497816de=\"\">C.P. Company</span></a>,\n",
       " <a class=\"menu_link\" data-v-497816de=\"\" href=\"#\"><svg class=\"icon sprite-icons checkbox-inactive\" data-v-497816de=\"\" xmlns=\"http://www.w3.org/2000/svg\"><use data-v-497816de=\"\" href=\"/_nuxt/cfd590865a821f881a56a77f46791162.svg#i-checkbox-inactive\" xlink:href=\"/_nuxt/cfd590865a821f881a56a77f46791162.svg#i-checkbox-inactive\"></use></svg> <span class=\"link_txt\" data-v-497816de=\"\">Camper</span></a>,\n",
       " <a class=\"menu_link\" data-v-497816de=\"\" href=\"#\"><svg class=\"icon sprite-icons checkbox-inactive\" data-v-497816de=\"\" xmlns=\"http://www.w3.org/2000/svg\"><use data-v-497816de=\"\" href=\"/_nuxt/cfd590865a821f881a56a77f46791162.svg#i-checkbox-inactive\" xlink:href=\"/_nuxt/cfd590865a821f881a56a77f46791162.svg#i-checkbox-inactive\"></use></svg> <span class=\"link_txt\" data-v-497816de=\"\">Canada Goose</span></a>,\n",
       " <a class=\"menu_link\" data-v-497816de=\"\" href=\"#\"><svg class=\"icon sprite-icons checkbox-inactive\" data-v-497816de=\"\" xmlns=\"http://www.w3.org/2000/svg\"><use data-v-497816de=\"\" href=\"/_nuxt/cfd590865a821f881a56a77f46791162.svg#i-checkbox-inactive\" xlink:href=\"/_nuxt/cfd590865a821f881a56a77f46791162.svg#i-checkbox-inactive\"></use></svg> <span class=\"link_txt\" data-v-497816de=\"\">Casetify</span></a>,\n",
       " <a class=\"menu_link\" data-v-497816de=\"\" href=\"#\"><svg class=\"icon sprite-icons checkbox-inactive\" data-v-497816de=\"\" xmlns=\"http://www.w3.org/2000/svg\"><use data-v-497816de=\"\" href=\"/_nuxt/cfd590865a821f881a56a77f46791162.svg#i-checkbox-inactive\" xlink:href=\"/_nuxt/cfd590865a821f881a56a77f46791162.svg#i-checkbox-inactive\"></use></svg> <span class=\"link_txt\" data-v-497816de=\"\">Casio</span></a>,\n",
       " <a class=\"menu_link\" data-v-497816de=\"\" href=\"#\"><svg class=\"icon sprite-icons checkbox-inactive\" data-v-497816de=\"\" xmlns=\"http://www.w3.org/2000/svg\"><use data-v-497816de=\"\" href=\"/_nuxt/cfd590865a821f881a56a77f46791162.svg#i-checkbox-inactive\" xlink:href=\"/_nuxt/cfd590865a821f881a56a77f46791162.svg#i-checkbox-inactive\"></use></svg> <span class=\"link_txt\" data-v-497816de=\"\">CDG</span></a>,\n",
       " <a class=\"menu_link\" data-v-497816de=\"\" href=\"#\"><svg class=\"icon sprite-icons checkbox-inactive\" data-v-497816de=\"\" xmlns=\"http://www.w3.org/2000/svg\"><use data-v-497816de=\"\" href=\"/_nuxt/cfd590865a821f881a56a77f46791162.svg#i-checkbox-inactive\" xlink:href=\"/_nuxt/cfd590865a821f881a56a77f46791162.svg#i-checkbox-inactive\"></use></svg> <span class=\"link_txt\" data-v-497816de=\"\">Celine</span></a>,\n",
       " <a class=\"menu_link\" data-v-497816de=\"\" href=\"#\"><svg class=\"icon sprite-icons checkbox-inactive\" data-v-497816de=\"\" xmlns=\"http://www.w3.org/2000/svg\"><use data-v-497816de=\"\" href=\"/_nuxt/cfd590865a821f881a56a77f46791162.svg#i-checkbox-inactive\" xlink:href=\"/_nuxt/cfd590865a821f881a56a77f46791162.svg#i-checkbox-inactive\"></use></svg> <span class=\"link_txt\" data-v-497816de=\"\">Chanel</span></a>,\n",
       " <a class=\"menu_link\" data-v-497816de=\"\" href=\"#\"><svg class=\"icon sprite-icons checkbox-inactive\" data-v-497816de=\"\" xmlns=\"http://www.w3.org/2000/svg\"><use data-v-497816de=\"\" href=\"/_nuxt/cfd590865a821f881a56a77f46791162.svg#i-checkbox-inactive\" xlink:href=\"/_nuxt/cfd590865a821f881a56a77f46791162.svg#i-checkbox-inactive\"></use></svg> <span class=\"link_txt\" data-v-497816de=\"\">Clarks</span></a>,\n",
       " <a class=\"menu_link\" data-v-497816de=\"\" href=\"#\"><svg class=\"icon sprite-icons checkbox-inactive\" data-v-497816de=\"\" xmlns=\"http://www.w3.org/2000/svg\"><use data-v-497816de=\"\" href=\"/_nuxt/cfd590865a821f881a56a77f46791162.svg#i-checkbox-inactive\" xlink:href=\"/_nuxt/cfd590865a821f881a56a77f46791162.svg#i-checkbox-inactive\"></use></svg> <span class=\"link_txt\" data-v-497816de=\"\">Comme des Garcons</span></a>,\n",
       " <a class=\"menu_link\" data-v-497816de=\"\" href=\"#\"><svg class=\"icon sprite-icons checkbox-inactive\" data-v-497816de=\"\" xmlns=\"http://www.w3.org/2000/svg\"><use data-v-497816de=\"\" href=\"/_nuxt/cfd590865a821f881a56a77f46791162.svg#i-checkbox-inactive\" xlink:href=\"/_nuxt/cfd590865a821f881a56a77f46791162.svg#i-checkbox-inactive\"></use></svg> <span class=\"link_txt\" data-v-497816de=\"\">Common Projects</span></a>,\n",
       " <a class=\"menu_link\" data-v-497816de=\"\" href=\"#\"><svg class=\"icon sprite-icons checkbox-inactive\" data-v-497816de=\"\" xmlns=\"http://www.w3.org/2000/svg\"><use data-v-497816de=\"\" href=\"/_nuxt/cfd590865a821f881a56a77f46791162.svg#i-checkbox-inactive\" xlink:href=\"/_nuxt/cfd590865a821f881a56a77f46791162.svg#i-checkbox-inactive\"></use></svg> <span class=\"link_txt\" data-v-497816de=\"\">Converse</span></a>,\n",
       " <a class=\"menu_link\" data-v-497816de=\"\" href=\"#\"><svg class=\"icon sprite-icons checkbox-inactive\" data-v-497816de=\"\" xmlns=\"http://www.w3.org/2000/svg\"><use data-v-497816de=\"\" href=\"/_nuxt/cfd590865a821f881a56a77f46791162.svg#i-checkbox-inactive\" xlink:href=\"/_nuxt/cfd590865a821f881a56a77f46791162.svg#i-checkbox-inactive\"></use></svg> <span class=\"link_txt\" data-v-497816de=\"\">Crocs</span></a>,\n",
       " <a class=\"menu_link\" data-v-497816de=\"\" href=\"#\"><svg class=\"icon sprite-icons checkbox-inactive\" data-v-497816de=\"\" xmlns=\"http://www.w3.org/2000/svg\"><use data-v-497816de=\"\" href=\"/_nuxt/cfd590865a821f881a56a77f46791162.svg#i-checkbox-inactive\" xlink:href=\"/_nuxt/cfd590865a821f881a56a77f46791162.svg#i-checkbox-inactive\"></use></svg> <span class=\"link_txt\" data-v-497816de=\"\">Darkr8m Studio</span></a>,\n",
       " <a class=\"menu_link\" data-v-497816de=\"\" href=\"#\"><svg class=\"icon sprite-icons checkbox-inactive\" data-v-497816de=\"\" xmlns=\"http://www.w3.org/2000/svg\"><use data-v-497816de=\"\" href=\"/_nuxt/cfd590865a821f881a56a77f46791162.svg#i-checkbox-inactive\" xlink:href=\"/_nuxt/cfd590865a821f881a56a77f46791162.svg#i-checkbox-inactive\"></use></svg> <span class=\"link_txt\" data-v-497816de=\"\">Dior</span></a>,\n",
       " <a class=\"menu_link\" data-v-497816de=\"\" href=\"#\"><svg class=\"icon sprite-icons checkbox-inactive\" data-v-497816de=\"\" xmlns=\"http://www.w3.org/2000/svg\"><use data-v-497816de=\"\" href=\"/_nuxt/cfd590865a821f881a56a77f46791162.svg#i-checkbox-inactive\" xlink:href=\"/_nuxt/cfd590865a821f881a56a77f46791162.svg#i-checkbox-inactive\"></use></svg> <span class=\"link_txt\" data-v-497816de=\"\">Dr. Martens</span></a>,\n",
       " <a class=\"menu_link\" data-v-497816de=\"\" href=\"#\"><svg class=\"icon sprite-icons checkbox-inactive\" data-v-497816de=\"\" xmlns=\"http://www.w3.org/2000/svg\"><use data-v-497816de=\"\" href=\"/_nuxt/cfd590865a821f881a56a77f46791162.svg#i-checkbox-inactive\" xlink:href=\"/_nuxt/cfd590865a821f881a56a77f46791162.svg#i-checkbox-inactive\"></use></svg> <span class=\"link_txt\" data-v-497816de=\"\">Fear of God</span></a>,\n",
       " <a class=\"menu_link\" data-v-497816de=\"\" href=\"#\"><svg class=\"icon sprite-icons checkbox-inactive\" data-v-497816de=\"\" xmlns=\"http://www.w3.org/2000/svg\"><use data-v-497816de=\"\" href=\"/_nuxt/cfd590865a821f881a56a77f46791162.svg#i-checkbox-inactive\" xlink:href=\"/_nuxt/cfd590865a821f881a56a77f46791162.svg#i-checkbox-inactive\"></use></svg> <span class=\"link_txt\" data-v-497816de=\"\">FOG Essentials</span></a>,\n",
       " <a class=\"menu_link\" data-v-497816de=\"\" href=\"#\"><svg class=\"icon sprite-icons checkbox-inactive\" data-v-497816de=\"\" xmlns=\"http://www.w3.org/2000/svg\"><use data-v-497816de=\"\" href=\"/_nuxt/cfd590865a821f881a56a77f46791162.svg#i-checkbox-inactive\" xlink:href=\"/_nuxt/cfd590865a821f881a56a77f46791162.svg#i-checkbox-inactive\"></use></svg> <span class=\"link_txt\" data-v-497816de=\"\">Golden Goose</span></a>,\n",
       " <a class=\"menu_link\" data-v-497816de=\"\" href=\"#\"><svg class=\"icon sprite-icons checkbox-inactive\" data-v-497816de=\"\" xmlns=\"http://www.w3.org/2000/svg\"><use data-v-497816de=\"\" href=\"/_nuxt/cfd590865a821f881a56a77f46791162.svg#i-checkbox-inactive\" xlink:href=\"/_nuxt/cfd590865a821f881a56a77f46791162.svg#i-checkbox-inactive\"></use></svg> <span class=\"link_txt\" data-v-497816de=\"\">Goyard</span></a>,\n",
       " <a class=\"menu_link\" data-v-497816de=\"\" href=\"#\"><svg class=\"icon sprite-icons checkbox-inactive\" data-v-497816de=\"\" xmlns=\"http://www.w3.org/2000/svg\"><use data-v-497816de=\"\" href=\"/_nuxt/cfd590865a821f881a56a77f46791162.svg#i-checkbox-inactive\" xlink:href=\"/_nuxt/cfd590865a821f881a56a77f46791162.svg#i-checkbox-inactive\"></use></svg> <span class=\"link_txt\" data-v-497816de=\"\">Gucci</span></a>,\n",
       " <a class=\"menu_link\" data-v-497816de=\"\" href=\"#\"><svg class=\"icon sprite-icons checkbox-inactive\" data-v-497816de=\"\" xmlns=\"http://www.w3.org/2000/svg\"><use data-v-497816de=\"\" href=\"/_nuxt/cfd590865a821f881a56a77f46791162.svg#i-checkbox-inactive\" xlink:href=\"/_nuxt/cfd590865a821f881a56a77f46791162.svg#i-checkbox-inactive\"></use></svg> <span class=\"link_txt\" data-v-497816de=\"\">Helinox</span></a>,\n",
       " <a class=\"menu_link\" data-v-497816de=\"\" href=\"#\"><svg class=\"icon sprite-icons checkbox-inactive\" data-v-497816de=\"\" xmlns=\"http://www.w3.org/2000/svg\"><use data-v-497816de=\"\" href=\"/_nuxt/cfd590865a821f881a56a77f46791162.svg#i-checkbox-inactive\" xlink:href=\"/_nuxt/cfd590865a821f881a56a77f46791162.svg#i-checkbox-inactive\"></use></svg> <span class=\"link_txt\" data-v-497816de=\"\">Hermes</span></a>,\n",
       " <a class=\"menu_link\" data-v-497816de=\"\" href=\"#\"><svg class=\"icon sprite-icons checkbox-inactive\" data-v-497816de=\"\" xmlns=\"http://www.w3.org/2000/svg\"><use data-v-497816de=\"\" href=\"/_nuxt/cfd590865a821f881a56a77f46791162.svg#i-checkbox-inactive\" xlink:href=\"/_nuxt/cfd590865a821f881a56a77f46791162.svg#i-checkbox-inactive\"></use></svg> <span class=\"link_txt\" data-v-497816de=\"\">Hoka One One</span></a>,\n",
       " <a class=\"menu_link\" data-v-497816de=\"\" href=\"#\"><svg class=\"icon sprite-icons checkbox-inactive\" data-v-497816de=\"\" xmlns=\"http://www.w3.org/2000/svg\"><use data-v-497816de=\"\" href=\"/_nuxt/cfd590865a821f881a56a77f46791162.svg#i-checkbox-inactive\" xlink:href=\"/_nuxt/cfd590865a821f881a56a77f46791162.svg#i-checkbox-inactive\"></use></svg> <span class=\"link_txt\" data-v-497816de=\"\">Human Made</span></a>,\n",
       " <a class=\"menu_link\" data-v-497816de=\"\" href=\"#\"><svg class=\"icon sprite-icons checkbox-inactive\" data-v-497816de=\"\" xmlns=\"http://www.w3.org/2000/svg\"><use data-v-497816de=\"\" href=\"/_nuxt/cfd590865a821f881a56a77f46791162.svg#i-checkbox-inactive\" xlink:href=\"/_nuxt/cfd590865a821f881a56a77f46791162.svg#i-checkbox-inactive\"></use></svg> <span class=\"link_txt\" data-v-497816de=\"\">IAB Studio</span></a>,\n",
       " <a class=\"menu_link\" data-v-497816de=\"\" href=\"#\"><svg class=\"icon sprite-icons checkbox-inactive\" data-v-497816de=\"\" xmlns=\"http://www.w3.org/2000/svg\"><use data-v-497816de=\"\" href=\"/_nuxt/cfd590865a821f881a56a77f46791162.svg#i-checkbox-inactive\" xlink:href=\"/_nuxt/cfd590865a821f881a56a77f46791162.svg#i-checkbox-inactive\"></use></svg> <span class=\"link_txt\" data-v-497816de=\"\">IKEA</span></a>,\n",
       " <a class=\"menu_link\" data-v-497816de=\"\" href=\"#\"><svg class=\"icon sprite-icons checkbox-inactive\" data-v-497816de=\"\" xmlns=\"http://www.w3.org/2000/svg\"><use data-v-497816de=\"\" href=\"/_nuxt/cfd590865a821f881a56a77f46791162.svg#i-checkbox-inactive\" xlink:href=\"/_nuxt/cfd590865a821f881a56a77f46791162.svg#i-checkbox-inactive\"></use></svg> <span class=\"link_txt\" data-v-497816de=\"\">Isabel Marant</span></a>,\n",
       " <a class=\"menu_link\" data-v-497816de=\"\" href=\"#\"><svg class=\"icon sprite-icons checkbox-inactive\" data-v-497816de=\"\" xmlns=\"http://www.w3.org/2000/svg\"><use data-v-497816de=\"\" href=\"/_nuxt/cfd590865a821f881a56a77f46791162.svg#i-checkbox-inactive\" xlink:href=\"/_nuxt/cfd590865a821f881a56a77f46791162.svg#i-checkbox-inactive\"></use></svg> <span class=\"link_txt\" data-v-497816de=\"\">Jacquemus</span></a>,\n",
       " <a class=\"menu_link\" data-v-497816de=\"\" href=\"#\"><svg class=\"icon sprite-icons checkbox-inactive\" data-v-497816de=\"\" xmlns=\"http://www.w3.org/2000/svg\"><use data-v-497816de=\"\" href=\"/_nuxt/cfd590865a821f881a56a77f46791162.svg#i-checkbox-inactive\" xlink:href=\"/_nuxt/cfd590865a821f881a56a77f46791162.svg#i-checkbox-inactive\"></use></svg> <span class=\"link_txt\" data-v-497816de=\"\">Jil Sander</span></a>,\n",
       " <a class=\"menu_link\" data-v-497816de=\"\" href=\"#\"><svg class=\"icon sprite-icons checkbox-inactive\" data-v-497816de=\"\" xmlns=\"http://www.w3.org/2000/svg\"><use data-v-497816de=\"\" href=\"/_nuxt/cfd590865a821f881a56a77f46791162.svg#i-checkbox-inactive\" xlink:href=\"/_nuxt/cfd590865a821f881a56a77f46791162.svg#i-checkbox-inactive\"></use></svg> <span class=\"link_txt\" data-v-497816de=\"\">Jimmy Choo</span></a>,\n",
       " <a class=\"menu_link\" data-v-497816de=\"\" href=\"#\"><svg class=\"icon sprite-icons checkbox-inactive\" data-v-497816de=\"\" xmlns=\"http://www.w3.org/2000/svg\"><use data-v-497816de=\"\" href=\"/_nuxt/cfd590865a821f881a56a77f46791162.svg#i-checkbox-inactive\" xlink:href=\"/_nuxt/cfd590865a821f881a56a77f46791162.svg#i-checkbox-inactive\"></use></svg> <span class=\"link_txt\" data-v-497816de=\"\">Jordan</span></a>,\n",
       " <a class=\"menu_link\" data-v-497816de=\"\" href=\"#\"><svg class=\"icon sprite-icons checkbox-inactive\" data-v-497816de=\"\" xmlns=\"http://www.w3.org/2000/svg\"><use data-v-497816de=\"\" href=\"/_nuxt/cfd590865a821f881a56a77f46791162.svg#i-checkbox-inactive\" xlink:href=\"/_nuxt/cfd590865a821f881a56a77f46791162.svg#i-checkbox-inactive\"></use></svg> <span class=\"link_txt\" data-v-497816de=\"\">Kaws</span></a>,\n",
       " <a class=\"menu_link\" data-v-497816de=\"\" href=\"#\"><svg class=\"icon sprite-icons checkbox-inactive\" data-v-497816de=\"\" xmlns=\"http://www.w3.org/2000/svg\"><use data-v-497816de=\"\" href=\"/_nuxt/cfd590865a821f881a56a77f46791162.svg#i-checkbox-inactive\" xlink:href=\"/_nuxt/cfd590865a821f881a56a77f46791162.svg#i-checkbox-inactive\"></use></svg> <span class=\"link_txt\" data-v-497816de=\"\">Kith</span></a>,\n",
       " <a class=\"menu_link\" data-v-497816de=\"\" href=\"#\"><svg class=\"icon sprite-icons checkbox-inactive\" data-v-497816de=\"\" xmlns=\"http://www.w3.org/2000/svg\"><use data-v-497816de=\"\" href=\"/_nuxt/cfd590865a821f881a56a77f46791162.svg#i-checkbox-inactive\" xlink:href=\"/_nuxt/cfd590865a821f881a56a77f46791162.svg#i-checkbox-inactive\"></use></svg> <span class=\"link_txt\" data-v-497816de=\"\">Lego</span></a>,\n",
       " <a class=\"menu_link\" data-v-497816de=\"\" href=\"#\"><svg class=\"icon sprite-icons checkbox-inactive\" data-v-497816de=\"\" xmlns=\"http://www.w3.org/2000/svg\"><use data-v-497816de=\"\" href=\"/_nuxt/cfd590865a821f881a56a77f46791162.svg#i-checkbox-inactive\" xlink:href=\"/_nuxt/cfd590865a821f881a56a77f46791162.svg#i-checkbox-inactive\"></use></svg> <span class=\"link_txt\" data-v-497816de=\"\">Lemaire</span></a>,\n",
       " <a class=\"menu_link\" data-v-497816de=\"\" href=\"#\"><svg class=\"icon sprite-icons checkbox-inactive\" data-v-497816de=\"\" xmlns=\"http://www.w3.org/2000/svg\"><use data-v-497816de=\"\" href=\"/_nuxt/cfd590865a821f881a56a77f46791162.svg#i-checkbox-inactive\" xlink:href=\"/_nuxt/cfd590865a821f881a56a77f46791162.svg#i-checkbox-inactive\"></use></svg> <span class=\"link_txt\" data-v-497816de=\"\">Louis Vuitton</span></a>,\n",
       " <a class=\"menu_link\" data-v-497816de=\"\" href=\"#\"><svg class=\"icon sprite-icons checkbox-inactive\" data-v-497816de=\"\" xmlns=\"http://www.w3.org/2000/svg\"><use data-v-497816de=\"\" href=\"/_nuxt/cfd590865a821f881a56a77f46791162.svg#i-checkbox-inactive\" xlink:href=\"/_nuxt/cfd590865a821f881a56a77f46791162.svg#i-checkbox-inactive\"></use></svg> <span class=\"link_txt\" data-v-497816de=\"\">Maison Kitsune</span></a>,\n",
       " <a class=\"menu_link\" data-v-497816de=\"\" href=\"#\"><svg class=\"icon sprite-icons checkbox-inactive\" data-v-497816de=\"\" xmlns=\"http://www.w3.org/2000/svg\"><use data-v-497816de=\"\" href=\"/_nuxt/cfd590865a821f881a56a77f46791162.svg#i-checkbox-inactive\" xlink:href=\"/_nuxt/cfd590865a821f881a56a77f46791162.svg#i-checkbox-inactive\"></use></svg> <span class=\"link_txt\" data-v-497816de=\"\">Maison Margiela</span></a>,\n",
       " <a class=\"menu_link\" data-v-497816de=\"\" href=\"#\"><svg class=\"icon sprite-icons checkbox-inactive\" data-v-497816de=\"\" xmlns=\"http://www.w3.org/2000/svg\"><use data-v-497816de=\"\" href=\"/_nuxt/cfd590865a821f881a56a77f46791162.svg#i-checkbox-inactive\" xlink:href=\"/_nuxt/cfd590865a821f881a56a77f46791162.svg#i-checkbox-inactive\"></use></svg> <span class=\"link_txt\" data-v-497816de=\"\">Microsoft</span></a>,\n",
       " <a class=\"menu_link\" data-v-497816de=\"\" href=\"#\"><svg class=\"icon sprite-icons checkbox-inactive\" data-v-497816de=\"\" xmlns=\"http://www.w3.org/2000/svg\"><use data-v-497816de=\"\" href=\"/_nuxt/cfd590865a821f881a56a77f46791162.svg#i-checkbox-inactive\" xlink:href=\"/_nuxt/cfd590865a821f881a56a77f46791162.svg#i-checkbox-inactive\"></use></svg> <span class=\"link_txt\" data-v-497816de=\"\">Mihara Yasuhiro</span></a>,\n",
       " <a class=\"menu_link\" data-v-497816de=\"\" href=\"#\"><svg class=\"icon sprite-icons checkbox-inactive\" data-v-497816de=\"\" xmlns=\"http://www.w3.org/2000/svg\"><use data-v-497816de=\"\" href=\"/_nuxt/cfd590865a821f881a56a77f46791162.svg#i-checkbox-inactive\" xlink:href=\"/_nuxt/cfd590865a821f881a56a77f46791162.svg#i-checkbox-inactive\"></use></svg> <span class=\"link_txt\" data-v-497816de=\"\">MM6 Maison Margiela</span></a>,\n",
       " <a class=\"menu_link\" data-v-497816de=\"\" href=\"#\"><svg class=\"icon sprite-icons checkbox-inactive\" data-v-497816de=\"\" xmlns=\"http://www.w3.org/2000/svg\"><use data-v-497816de=\"\" href=\"/_nuxt/cfd590865a821f881a56a77f46791162.svg#i-checkbox-inactive\" xlink:href=\"/_nuxt/cfd590865a821f881a56a77f46791162.svg#i-checkbox-inactive\"></use></svg> <span class=\"link_txt\" data-v-497816de=\"\">Moncler</span></a>,\n",
       " <a class=\"menu_link\" data-v-497816de=\"\" href=\"#\"><svg class=\"icon sprite-icons checkbox-inactive\" data-v-497816de=\"\" xmlns=\"http://www.w3.org/2000/svg\"><use data-v-497816de=\"\" href=\"/_nuxt/cfd590865a821f881a56a77f46791162.svg#i-checkbox-inactive\" xlink:href=\"/_nuxt/cfd590865a821f881a56a77f46791162.svg#i-checkbox-inactive\"></use></svg> <span class=\"link_txt\" data-v-497816de=\"\">Needles</span></a>,\n",
       " <a class=\"menu_link\" data-v-497816de=\"\" href=\"#\"><svg class=\"icon sprite-icons checkbox-inactive\" data-v-497816de=\"\" xmlns=\"http://www.w3.org/2000/svg\"><use data-v-497816de=\"\" href=\"/_nuxt/cfd590865a821f881a56a77f46791162.svg#i-checkbox-inactive\" xlink:href=\"/_nuxt/cfd590865a821f881a56a77f46791162.svg#i-checkbox-inactive\"></use></svg> <span class=\"link_txt\" data-v-497816de=\"\">New Balance</span></a>,\n",
       " <a class=\"menu_link\" data-v-497816de=\"\" href=\"#\"><svg class=\"icon sprite-icons checkbox-inactive\" data-v-497816de=\"\" xmlns=\"http://www.w3.org/2000/svg\"><use data-v-497816de=\"\" href=\"/_nuxt/cfd590865a821f881a56a77f46791162.svg#i-checkbox-inactive\" xlink:href=\"/_nuxt/cfd590865a821f881a56a77f46791162.svg#i-checkbox-inactive\"></use></svg> <span class=\"link_txt\" data-v-497816de=\"\">Nike</span></a>,\n",
       " <a class=\"menu_link\" data-v-497816de=\"\" href=\"#\"><svg class=\"icon sprite-icons checkbox-inactive\" data-v-497816de=\"\" xmlns=\"http://www.w3.org/2000/svg\"><use data-v-497816de=\"\" href=\"/_nuxt/cfd590865a821f881a56a77f46791162.svg#i-checkbox-inactive\" xlink:href=\"/_nuxt/cfd590865a821f881a56a77f46791162.svg#i-checkbox-inactive\"></use></svg> <span class=\"link_txt\" data-v-497816de=\"\">Nintendo</span></a>,\n",
       " <a class=\"menu_link\" data-v-497816de=\"\" href=\"#\"><svg class=\"icon sprite-icons checkbox-inactive\" data-v-497816de=\"\" xmlns=\"http://www.w3.org/2000/svg\"><use data-v-497816de=\"\" href=\"/_nuxt/cfd590865a821f881a56a77f46791162.svg#i-checkbox-inactive\" xlink:href=\"/_nuxt/cfd590865a821f881a56a77f46791162.svg#i-checkbox-inactive\"></use></svg> <span class=\"link_txt\" data-v-497816de=\"\">Nvidia</span></a>,\n",
       " <a class=\"menu_link\" data-v-497816de=\"\" href=\"#\"><svg class=\"icon sprite-icons checkbox-inactive\" data-v-497816de=\"\" xmlns=\"http://www.w3.org/2000/svg\"><use data-v-497816de=\"\" href=\"/_nuxt/cfd590865a821f881a56a77f46791162.svg#i-checkbox-inactive\" xlink:href=\"/_nuxt/cfd590865a821f881a56a77f46791162.svg#i-checkbox-inactive\"></use></svg> <span class=\"link_txt\" data-v-497816de=\"\">Off-White</span></a>,\n",
       " <a class=\"menu_link\" data-v-497816de=\"\" href=\"#\"><svg class=\"icon sprite-icons checkbox-inactive\" data-v-497816de=\"\" xmlns=\"http://www.w3.org/2000/svg\"><use data-v-497816de=\"\" href=\"/_nuxt/cfd590865a821f881a56a77f46791162.svg#i-checkbox-inactive\" xlink:href=\"/_nuxt/cfd590865a821f881a56a77f46791162.svg#i-checkbox-inactive\"></use></svg> <span class=\"link_txt\" data-v-497816de=\"\">Oofos</span></a>,\n",
       " <a class=\"menu_link\" data-v-497816de=\"\" href=\"#\"><svg class=\"icon sprite-icons checkbox-inactive\" data-v-497816de=\"\" xmlns=\"http://www.w3.org/2000/svg\"><use data-v-497816de=\"\" href=\"/_nuxt/cfd590865a821f881a56a77f46791162.svg#i-checkbox-inactive\" xlink:href=\"/_nuxt/cfd590865a821f881a56a77f46791162.svg#i-checkbox-inactive\"></use></svg> <span class=\"link_txt\" data-v-497816de=\"\">Palace</span></a>,\n",
       " <a class=\"menu_link\" data-v-497816de=\"\" href=\"#\"><svg class=\"icon sprite-icons checkbox-inactive\" data-v-497816de=\"\" xmlns=\"http://www.w3.org/2000/svg\"><use data-v-497816de=\"\" href=\"/_nuxt/cfd590865a821f881a56a77f46791162.svg#i-checkbox-inactive\" xlink:href=\"/_nuxt/cfd590865a821f881a56a77f46791162.svg#i-checkbox-inactive\"></use></svg> <span class=\"link_txt\" data-v-497816de=\"\">Peaches.</span></a>,\n",
       " <a class=\"menu_link\" data-v-497816de=\"\" href=\"#\"><svg class=\"icon sprite-icons checkbox-inactive\" data-v-497816de=\"\" xmlns=\"http://www.w3.org/2000/svg\"><use data-v-497816de=\"\" href=\"/_nuxt/cfd590865a821f881a56a77f46791162.svg#i-checkbox-inactive\" xlink:href=\"/_nuxt/cfd590865a821f881a56a77f46791162.svg#i-checkbox-inactive\"></use></svg> <span class=\"link_txt\" data-v-497816de=\"\">Play Comme des Garcons</span></a>,\n",
       " <a class=\"menu_link\" data-v-497816de=\"\" href=\"#\"><svg class=\"icon sprite-icons checkbox-inactive\" data-v-497816de=\"\" xmlns=\"http://www.w3.org/2000/svg\"><use data-v-497816de=\"\" href=\"/_nuxt/cfd590865a821f881a56a77f46791162.svg#i-checkbox-inactive\" xlink:href=\"/_nuxt/cfd590865a821f881a56a77f46791162.svg#i-checkbox-inactive\"></use></svg> <span class=\"link_txt\" data-v-497816de=\"\">Playmobil</span></a>,\n",
       " <a class=\"menu_link\" data-v-497816de=\"\" href=\"#\"><svg class=\"icon sprite-icons checkbox-inactive\" data-v-497816de=\"\" xmlns=\"http://www.w3.org/2000/svg\"><use data-v-497816de=\"\" href=\"/_nuxt/cfd590865a821f881a56a77f46791162.svg#i-checkbox-inactive\" xlink:href=\"/_nuxt/cfd590865a821f881a56a77f46791162.svg#i-checkbox-inactive\"></use></svg> <span class=\"link_txt\" data-v-497816de=\"\">Polo Ralph Lauren</span></a>,\n",
       " <a class=\"menu_link\" data-v-497816de=\"\" href=\"#\"><svg class=\"icon sprite-icons checkbox-inactive\" data-v-497816de=\"\" xmlns=\"http://www.w3.org/2000/svg\"><use data-v-497816de=\"\" href=\"/_nuxt/cfd590865a821f881a56a77f46791162.svg#i-checkbox-inactive\" xlink:href=\"/_nuxt/cfd590865a821f881a56a77f46791162.svg#i-checkbox-inactive\"></use></svg> <span class=\"link_txt\" data-v-497816de=\"\">Porter</span></a>,\n",
       " <a class=\"menu_link\" data-v-497816de=\"\" href=\"#\"><svg class=\"icon sprite-icons checkbox-inactive\" data-v-497816de=\"\" xmlns=\"http://www.w3.org/2000/svg\"><use data-v-497816de=\"\" href=\"/_nuxt/cfd590865a821f881a56a77f46791162.svg#i-checkbox-inactive\" xlink:href=\"/_nuxt/cfd590865a821f881a56a77f46791162.svg#i-checkbox-inactive\"></use></svg> <span class=\"link_txt\" data-v-497816de=\"\">Prada</span></a>,\n",
       " <a class=\"menu_link\" data-v-497816de=\"\" href=\"#\"><svg class=\"icon sprite-icons checkbox-inactive\" data-v-497816de=\"\" xmlns=\"http://www.w3.org/2000/svg\"><use data-v-497816de=\"\" href=\"/_nuxt/cfd590865a821f881a56a77f46791162.svg#i-checkbox-inactive\" xlink:href=\"/_nuxt/cfd590865a821f881a56a77f46791162.svg#i-checkbox-inactive\"></use></svg> <span class=\"link_txt\" data-v-497816de=\"\">Puma</span></a>,\n",
       " <a class=\"menu_link\" data-v-497816de=\"\" href=\"#\"><svg class=\"icon sprite-icons checkbox-inactive\" data-v-497816de=\"\" xmlns=\"http://www.w3.org/2000/svg\"><use data-v-497816de=\"\" href=\"/_nuxt/cfd590865a821f881a56a77f46791162.svg#i-checkbox-inactive\" xlink:href=\"/_nuxt/cfd590865a821f881a56a77f46791162.svg#i-checkbox-inactive\"></use></svg> <span class=\"link_txt\" data-v-497816de=\"\">Reebok</span></a>,\n",
       " <a class=\"menu_link\" data-v-497816de=\"\" href=\"#\"><svg class=\"icon sprite-icons checkbox-inactive\" data-v-497816de=\"\" xmlns=\"http://www.w3.org/2000/svg\"><use data-v-497816de=\"\" href=\"/_nuxt/cfd590865a821f881a56a77f46791162.svg#i-checkbox-inactive\" xlink:href=\"/_nuxt/cfd590865a821f881a56a77f46791162.svg#i-checkbox-inactive\"></use></svg> <span class=\"link_txt\" data-v-497816de=\"\">Rolex</span></a>,\n",
       " <a class=\"menu_link\" data-v-497816de=\"\" href=\"#\"><svg class=\"icon sprite-icons checkbox-inactive\" data-v-497816de=\"\" xmlns=\"http://www.w3.org/2000/svg\"><use data-v-497816de=\"\" href=\"/_nuxt/cfd590865a821f881a56a77f46791162.svg#i-checkbox-inactive\" xlink:href=\"/_nuxt/cfd590865a821f881a56a77f46791162.svg#i-checkbox-inactive\"></use></svg> <span class=\"link_txt\" data-v-497816de=\"\">Saint Laurent</span></a>,\n",
       " <a class=\"menu_link\" data-v-497816de=\"\" href=\"#\"><svg class=\"icon sprite-icons checkbox-inactive\" data-v-497816de=\"\" xmlns=\"http://www.w3.org/2000/svg\"><use data-v-497816de=\"\" href=\"/_nuxt/cfd590865a821f881a56a77f46791162.svg#i-checkbox-inactive\" xlink:href=\"/_nuxt/cfd590865a821f881a56a77f46791162.svg#i-checkbox-inactive\"></use></svg> <span class=\"link_txt\" data-v-497816de=\"\">Salomon</span></a>,\n",
       " <a class=\"menu_link\" data-v-497816de=\"\" href=\"#\"><svg class=\"icon sprite-icons checkbox-inactive\" data-v-497816de=\"\" xmlns=\"http://www.w3.org/2000/svg\"><use data-v-497816de=\"\" href=\"/_nuxt/cfd590865a821f881a56a77f46791162.svg#i-checkbox-inactive\" xlink:href=\"/_nuxt/cfd590865a821f881a56a77f46791162.svg#i-checkbox-inactive\"></use></svg> <span class=\"link_txt\" data-v-497816de=\"\">Samsung</span></a>,\n",
       " <a class=\"menu_link\" data-v-497816de=\"\" href=\"#\"><svg class=\"icon sprite-icons checkbox-inactive\" data-v-497816de=\"\" xmlns=\"http://www.w3.org/2000/svg\"><use data-v-497816de=\"\" href=\"/_nuxt/cfd590865a821f881a56a77f46791162.svg#i-checkbox-inactive\" xlink:href=\"/_nuxt/cfd590865a821f881a56a77f46791162.svg#i-checkbox-inactive\"></use></svg> <span class=\"link_txt\" data-v-497816de=\"\">Sony</span></a>,\n",
       " <a class=\"menu_link\" data-v-497816de=\"\" href=\"#\"><svg class=\"icon sprite-icons checkbox-inactive\" data-v-497816de=\"\" xmlns=\"http://www.w3.org/2000/svg\"><use data-v-497816de=\"\" href=\"/_nuxt/cfd590865a821f881a56a77f46791162.svg#i-checkbox-inactive\" xlink:href=\"/_nuxt/cfd590865a821f881a56a77f46791162.svg#i-checkbox-inactive\"></use></svg> <span class=\"link_txt\" data-v-497816de=\"\">Starbucks</span></a>,\n",
       " <a class=\"menu_link\" data-v-497816de=\"\" href=\"#\"><svg class=\"icon sprite-icons checkbox-inactive\" data-v-497816de=\"\" xmlns=\"http://www.w3.org/2000/svg\"><use data-v-497816de=\"\" href=\"/_nuxt/cfd590865a821f881a56a77f46791162.svg#i-checkbox-inactive\" xlink:href=\"/_nuxt/cfd590865a821f881a56a77f46791162.svg#i-checkbox-inactive\"></use></svg> <span class=\"link_txt\" data-v-497816de=\"\">Stone Island</span></a>,\n",
       " <a class=\"menu_link\" data-v-497816de=\"\" href=\"#\"><svg class=\"icon sprite-icons checkbox-inactive\" data-v-497816de=\"\" xmlns=\"http://www.w3.org/2000/svg\"><use data-v-497816de=\"\" href=\"/_nuxt/cfd590865a821f881a56a77f46791162.svg#i-checkbox-inactive\" xlink:href=\"/_nuxt/cfd590865a821f881a56a77f46791162.svg#i-checkbox-inactive\"></use></svg> <span class=\"link_txt\" data-v-497816de=\"\">Stussy</span></a>,\n",
       " <a class=\"menu_link\" data-v-497816de=\"\" href=\"#\"><svg class=\"icon sprite-icons checkbox-inactive\" data-v-497816de=\"\" xmlns=\"http://www.w3.org/2000/svg\"><use data-v-497816de=\"\" href=\"/_nuxt/cfd590865a821f881a56a77f46791162.svg#i-checkbox-inactive\" xlink:href=\"/_nuxt/cfd590865a821f881a56a77f46791162.svg#i-checkbox-inactive\"></use></svg> <span class=\"link_txt\" data-v-497816de=\"\">Supreme</span></a>,\n",
       " <a class=\"menu_link\" data-v-497816de=\"\" href=\"#\"><svg class=\"icon sprite-icons checkbox-inactive\" data-v-497816de=\"\" xmlns=\"http://www.w3.org/2000/svg\"><use data-v-497816de=\"\" href=\"/_nuxt/cfd590865a821f881a56a77f46791162.svg#i-checkbox-inactive\" xlink:href=\"/_nuxt/cfd590865a821f881a56a77f46791162.svg#i-checkbox-inactive\"></use></svg> <span class=\"link_txt\" data-v-497816de=\"\">Telfar</span></a>,\n",
       " <a class=\"menu_link\" data-v-497816de=\"\" href=\"#\"><svg class=\"icon sprite-icons checkbox-inactive\" data-v-497816de=\"\" xmlns=\"http://www.w3.org/2000/svg\"><use data-v-497816de=\"\" href=\"/_nuxt/cfd590865a821f881a56a77f46791162.svg#i-checkbox-inactive\" xlink:href=\"/_nuxt/cfd590865a821f881a56a77f46791162.svg#i-checkbox-inactive\"></use></svg> <span class=\"link_txt\" data-v-497816de=\"\">Ten C</span></a>,\n",
       " <a class=\"menu_link\" data-v-497816de=\"\" href=\"#\"><svg class=\"icon sprite-icons checkbox-inactive\" data-v-497816de=\"\" xmlns=\"http://www.w3.org/2000/svg\"><use data-v-497816de=\"\" href=\"/_nuxt/cfd590865a821f881a56a77f46791162.svg#i-checkbox-inactive\" xlink:href=\"/_nuxt/cfd590865a821f881a56a77f46791162.svg#i-checkbox-inactive\"></use></svg> <span class=\"link_txt\" data-v-497816de=\"\">The North Face</span></a>,\n",
       " <a class=\"menu_link\" data-v-497816de=\"\" href=\"#\"><svg class=\"icon sprite-icons checkbox-inactive\" data-v-497816de=\"\" xmlns=\"http://www.w3.org/2000/svg\"><use data-v-497816de=\"\" href=\"/_nuxt/cfd590865a821f881a56a77f46791162.svg#i-checkbox-inactive\" xlink:href=\"/_nuxt/cfd590865a821f881a56a77f46791162.svg#i-checkbox-inactive\"></use></svg> <span class=\"link_txt\" data-v-497816de=\"\">Thom Browne</span></a>,\n",
       " <a class=\"menu_link\" data-v-497816de=\"\" href=\"#\"><svg class=\"icon sprite-icons checkbox-inactive\" data-v-497816de=\"\" xmlns=\"http://www.w3.org/2000/svg\"><use data-v-497816de=\"\" href=\"/_nuxt/cfd590865a821f881a56a77f46791162.svg#i-checkbox-inactive\" xlink:href=\"/_nuxt/cfd590865a821f881a56a77f46791162.svg#i-checkbox-inactive\"></use></svg> <span class=\"link_txt\" data-v-497816de=\"\">Timberland</span></a>,\n",
       " <a class=\"menu_link\" data-v-497816de=\"\" href=\"#\"><svg class=\"icon sprite-icons checkbox-inactive\" data-v-497816de=\"\" xmlns=\"http://www.w3.org/2000/svg\"><use data-v-497816de=\"\" href=\"/_nuxt/cfd590865a821f881a56a77f46791162.svg#i-checkbox-inactive\" xlink:href=\"/_nuxt/cfd590865a821f881a56a77f46791162.svg#i-checkbox-inactive\"></use></svg> <span class=\"link_txt\" data-v-497816de=\"\">Valentino</span></a>,\n",
       " <a class=\"menu_link\" data-v-497816de=\"\" href=\"#\"><svg class=\"icon sprite-icons checkbox-inactive\" data-v-497816de=\"\" xmlns=\"http://www.w3.org/2000/svg\"><use data-v-497816de=\"\" href=\"/_nuxt/cfd590865a821f881a56a77f46791162.svg#i-checkbox-inactive\" xlink:href=\"/_nuxt/cfd590865a821f881a56a77f46791162.svg#i-checkbox-inactive\"></use></svg> <span class=\"link_txt\" data-v-497816de=\"\">Vans</span></a>,\n",
       " <a class=\"menu_link\" data-v-497816de=\"\" href=\"#\"><svg class=\"icon sprite-icons checkbox-inactive\" data-v-497816de=\"\" xmlns=\"http://www.w3.org/2000/svg\"><use data-v-497816de=\"\" href=\"/_nuxt/cfd590865a821f881a56a77f46791162.svg#i-checkbox-inactive\" xlink:href=\"/_nuxt/cfd590865a821f881a56a77f46791162.svg#i-checkbox-inactive\"></use></svg> <span class=\"link_txt\" data-v-497816de=\"\">Y-3</span></a>,\n",
       " <a class=\"menu_link\" data-v-497816de=\"\" href=\"#\"><svg class=\"icon sprite-icons checkbox-inactive\" data-v-497816de=\"\" xmlns=\"http://www.w3.org/2000/svg\"><use data-v-497816de=\"\" href=\"/_nuxt/cfd590865a821f881a56a77f46791162.svg#i-checkbox-inactive\" xlink:href=\"/_nuxt/cfd590865a821f881a56a77f46791162.svg#i-checkbox-inactive\"></use></svg> <span class=\"link_txt\" data-v-497816de=\"\">Yeezy</span></a>,\n",
       " <a class=\"menu_link\" data-v-497816de=\"\" href=\"#\"><svg class=\"icon sprite-icons checkbox-inactive\" data-v-497816de=\"\" xmlns=\"http://www.w3.org/2000/svg\"><use data-v-497816de=\"\" href=\"/_nuxt/cfd590865a821f881a56a77f46791162.svg#i-checkbox-inactive\" xlink:href=\"/_nuxt/cfd590865a821f881a56a77f46791162.svg#i-checkbox-inactive\"></use></svg> <span class=\"link_txt\" data-v-497816de=\"\">남성</span></a>,\n",
       " <a class=\"menu_link\" data-v-497816de=\"\" href=\"#\"><svg class=\"icon sprite-icons checkbox-inactive\" data-v-497816de=\"\" xmlns=\"http://www.w3.org/2000/svg\"><use data-v-497816de=\"\" href=\"/_nuxt/cfd590865a821f881a56a77f46791162.svg#i-checkbox-inactive\" xlink:href=\"/_nuxt/cfd590865a821f881a56a77f46791162.svg#i-checkbox-inactive\"></use></svg> <span class=\"link_txt\" data-v-497816de=\"\">여성</span></a>,\n",
       " <a class=\"menu_link\" data-v-497816de=\"\" href=\"#\"><svg class=\"icon sprite-icons checkbox-inactive\" data-v-497816de=\"\" xmlns=\"http://www.w3.org/2000/svg\"><use data-v-497816de=\"\" href=\"/_nuxt/cfd590865a821f881a56a77f46791162.svg#i-checkbox-inactive\" xlink:href=\"/_nuxt/cfd590865a821f881a56a77f46791162.svg#i-checkbox-inactive\"></use></svg> <span class=\"link_txt\" data-v-497816de=\"\">키즈</span></a>,\n",
       " <a class=\"menu_link\" data-v-497816de=\"\" href=\"#\"><svg class=\"icon sprite-icons checkbox-inactive\" data-v-497816de=\"\" xmlns=\"http://www.w3.org/2000/svg\"><use data-v-497816de=\"\" href=\"/_nuxt/cfd590865a821f881a56a77f46791162.svg#i-checkbox-inactive\" xlink:href=\"/_nuxt/cfd590865a821f881a56a77f46791162.svg#i-checkbox-inactive\"></use></svg> <span class=\"link_txt\" data-v-497816de=\"\">Jordan 1</span></a>,\n",
       " <a class=\"menu_link\" data-v-497816de=\"\" href=\"#\"><svg class=\"icon sprite-icons checkbox-inactive\" data-v-497816de=\"\" xmlns=\"http://www.w3.org/2000/svg\"><use data-v-497816de=\"\" href=\"/_nuxt/cfd590865a821f881a56a77f46791162.svg#i-checkbox-inactive\" xlink:href=\"/_nuxt/cfd590865a821f881a56a77f46791162.svg#i-checkbox-inactive\"></use></svg> <span class=\"link_txt\" data-v-497816de=\"\">Jordan 3</span></a>,\n",
       " <a class=\"menu_link\" data-v-497816de=\"\" href=\"#\"><svg class=\"icon sprite-icons checkbox-inactive\" data-v-497816de=\"\" xmlns=\"http://www.w3.org/2000/svg\"><use data-v-497816de=\"\" href=\"/_nuxt/cfd590865a821f881a56a77f46791162.svg#i-checkbox-inactive\" xlink:href=\"/_nuxt/cfd590865a821f881a56a77f46791162.svg#i-checkbox-inactive\"></use></svg> <span class=\"link_txt\" data-v-497816de=\"\">Jordan 4</span></a>,\n",
       " <a class=\"menu_link\" data-v-497816de=\"\" href=\"#\"><svg class=\"icon sprite-icons checkbox-inactive\" data-v-497816de=\"\" xmlns=\"http://www.w3.org/2000/svg\"><use data-v-497816de=\"\" href=\"/_nuxt/cfd590865a821f881a56a77f46791162.svg#i-checkbox-inactive\" xlink:href=\"/_nuxt/cfd590865a821f881a56a77f46791162.svg#i-checkbox-inactive\"></use></svg> <span class=\"link_txt\" data-v-497816de=\"\">Jordan 5</span></a>,\n",
       " <a class=\"menu_link\" data-v-497816de=\"\" href=\"#\"><svg class=\"icon sprite-icons checkbox-inactive\" data-v-497816de=\"\" xmlns=\"http://www.w3.org/2000/svg\"><use data-v-497816de=\"\" href=\"/_nuxt/cfd590865a821f881a56a77f46791162.svg#i-checkbox-inactive\" xlink:href=\"/_nuxt/cfd590865a821f881a56a77f46791162.svg#i-checkbox-inactive\"></use></svg> <span class=\"link_txt\" data-v-497816de=\"\">Jordan 6</span></a>,\n",
       " <a class=\"menu_link\" data-v-497816de=\"\" href=\"#\"><svg class=\"icon sprite-icons checkbox-inactive\" data-v-497816de=\"\" xmlns=\"http://www.w3.org/2000/svg\"><use data-v-497816de=\"\" href=\"/_nuxt/cfd590865a821f881a56a77f46791162.svg#i-checkbox-inactive\" xlink:href=\"/_nuxt/cfd590865a821f881a56a77f46791162.svg#i-checkbox-inactive\"></use></svg> <span class=\"link_txt\" data-v-497816de=\"\">Jordan 11</span></a>,\n",
       " <a class=\"menu_link\" data-v-497816de=\"\" href=\"#\"><svg class=\"icon sprite-icons checkbox-inactive\" data-v-497816de=\"\" xmlns=\"http://www.w3.org/2000/svg\"><use data-v-497816de=\"\" href=\"/_nuxt/cfd590865a821f881a56a77f46791162.svg#i-checkbox-inactive\" xlink:href=\"/_nuxt/cfd590865a821f881a56a77f46791162.svg#i-checkbox-inactive\"></use></svg> <span class=\"link_txt\" data-v-497816de=\"\">Jordan 13</span></a>,\n",
       " <a class=\"menu_link\" data-v-497816de=\"\" href=\"#\"><svg class=\"icon sprite-icons checkbox-inactive\" data-v-497816de=\"\" xmlns=\"http://www.w3.org/2000/svg\"><use data-v-497816de=\"\" href=\"/_nuxt/cfd590865a821f881a56a77f46791162.svg#i-checkbox-inactive\" xlink:href=\"/_nuxt/cfd590865a821f881a56a77f46791162.svg#i-checkbox-inactive\"></use></svg> <span class=\"link_txt\" data-v-497816de=\"\">Nike Dunk</span></a>,\n",
       " <a class=\"menu_link\" data-v-497816de=\"\" href=\"#\"><svg class=\"icon sprite-icons checkbox-inactive\" data-v-497816de=\"\" xmlns=\"http://www.w3.org/2000/svg\"><use data-v-497816de=\"\" href=\"/_nuxt/cfd590865a821f881a56a77f46791162.svg#i-checkbox-inactive\" xlink:href=\"/_nuxt/cfd590865a821f881a56a77f46791162.svg#i-checkbox-inactive\"></use></svg> <span class=\"link_txt\" data-v-497816de=\"\">Nike Air Force</span></a>,\n",
       " <a class=\"menu_link\" data-v-497816de=\"\" href=\"#\"><svg class=\"icon sprite-icons checkbox-inactive\" data-v-497816de=\"\" xmlns=\"http://www.w3.org/2000/svg\"><use data-v-497816de=\"\" href=\"/_nuxt/cfd590865a821f881a56a77f46791162.svg#i-checkbox-inactive\" xlink:href=\"/_nuxt/cfd590865a821f881a56a77f46791162.svg#i-checkbox-inactive\"></use></svg> <span class=\"link_txt\" data-v-497816de=\"\">Nike Air Max 1</span></a>,\n",
       " <a class=\"menu_link\" data-v-497816de=\"\" href=\"#\"><svg class=\"icon sprite-icons checkbox-inactive\" data-v-497816de=\"\" xmlns=\"http://www.w3.org/2000/svg\"><use data-v-497816de=\"\" href=\"/_nuxt/cfd590865a821f881a56a77f46791162.svg#i-checkbox-inactive\" xlink:href=\"/_nuxt/cfd590865a821f881a56a77f46791162.svg#i-checkbox-inactive\"></use></svg> <span class=\"link_txt\" data-v-497816de=\"\">Nike Air Max 95</span></a>,\n",
       " <a class=\"menu_link\" data-v-497816de=\"\" href=\"#\"><svg class=\"icon sprite-icons checkbox-inactive\" data-v-497816de=\"\" xmlns=\"http://www.w3.org/2000/svg\"><use data-v-497816de=\"\" href=\"/_nuxt/cfd590865a821f881a56a77f46791162.svg#i-checkbox-inactive\" xlink:href=\"/_nuxt/cfd590865a821f881a56a77f46791162.svg#i-checkbox-inactive\"></use></svg> <span class=\"link_txt\" data-v-497816de=\"\">Nike Air Max 97</span></a>,\n",
       " <a class=\"menu_link\" data-v-497816de=\"\" href=\"#\"><svg class=\"icon sprite-icons checkbox-inactive\" data-v-497816de=\"\" xmlns=\"http://www.w3.org/2000/svg\"><use data-v-497816de=\"\" href=\"/_nuxt/cfd590865a821f881a56a77f46791162.svg#i-checkbox-inactive\" xlink:href=\"/_nuxt/cfd590865a821f881a56a77f46791162.svg#i-checkbox-inactive\"></use></svg> <span class=\"link_txt\" data-v-497816de=\"\">Nike Air Vapormax</span></a>,\n",
       " <a class=\"menu_link\" data-v-497816de=\"\" href=\"#\"><svg class=\"icon sprite-icons checkbox-inactive\" data-v-497816de=\"\" xmlns=\"http://www.w3.org/2000/svg\"><use data-v-497816de=\"\" href=\"/_nuxt/cfd590865a821f881a56a77f46791162.svg#i-checkbox-inactive\" xlink:href=\"/_nuxt/cfd590865a821f881a56a77f46791162.svg#i-checkbox-inactive\"></use></svg> <span class=\"link_txt\" data-v-497816de=\"\">Nike Daybreak</span></a>,\n",
       " <a class=\"menu_link\" data-v-497816de=\"\" href=\"#\"><svg class=\"icon sprite-icons checkbox-inactive\" data-v-497816de=\"\" xmlns=\"http://www.w3.org/2000/svg\"><use data-v-497816de=\"\" href=\"/_nuxt/cfd590865a821f881a56a77f46791162.svg#i-checkbox-inactive\" xlink:href=\"/_nuxt/cfd590865a821f881a56a77f46791162.svg#i-checkbox-inactive\"></use></svg> <span class=\"link_txt\" data-v-497816de=\"\">Nike Uptempo</span></a>,\n",
       " <a class=\"menu_link\" data-v-497816de=\"\" href=\"#\"><svg class=\"icon sprite-icons checkbox-inactive\" data-v-497816de=\"\" xmlns=\"http://www.w3.org/2000/svg\"><use data-v-497816de=\"\" href=\"/_nuxt/cfd590865a821f881a56a77f46791162.svg#i-checkbox-inactive\" xlink:href=\"/_nuxt/cfd590865a821f881a56a77f46791162.svg#i-checkbox-inactive\"></use></svg> <span class=\"link_txt\" data-v-497816de=\"\">Nike Kobe</span></a>,\n",
       " <a class=\"menu_link\" data-v-497816de=\"\" href=\"#\"><svg class=\"icon sprite-icons checkbox-inactive\" data-v-497816de=\"\" xmlns=\"http://www.w3.org/2000/svg\"><use data-v-497816de=\"\" href=\"/_nuxt/cfd590865a821f881a56a77f46791162.svg#i-checkbox-inactive\" xlink:href=\"/_nuxt/cfd590865a821f881a56a77f46791162.svg#i-checkbox-inactive\"></use></svg> <span class=\"link_txt\" data-v-497816de=\"\">Nike Blazer</span></a>,\n",
       " <a class=\"menu_link\" data-v-497816de=\"\" href=\"#\"><svg class=\"icon sprite-icons checkbox-inactive\" data-v-497816de=\"\" xmlns=\"http://www.w3.org/2000/svg\"><use data-v-497816de=\"\" href=\"/_nuxt/cfd590865a821f881a56a77f46791162.svg#i-checkbox-inactive\" xlink:href=\"/_nuxt/cfd590865a821f881a56a77f46791162.svg#i-checkbox-inactive\"></use></svg> <span class=\"link_txt\" data-v-497816de=\"\">New Balance 237</span></a>,\n",
       " <a class=\"menu_link\" data-v-497816de=\"\" href=\"#\"><svg class=\"icon sprite-icons checkbox-inactive\" data-v-497816de=\"\" xmlns=\"http://www.w3.org/2000/svg\"><use data-v-497816de=\"\" href=\"/_nuxt/cfd590865a821f881a56a77f46791162.svg#i-checkbox-inactive\" xlink:href=\"/_nuxt/cfd590865a821f881a56a77f46791162.svg#i-checkbox-inactive\"></use></svg> <span class=\"link_txt\" data-v-497816de=\"\">New Balance 327</span></a>,\n",
       " <a class=\"menu_link\" data-v-497816de=\"\" href=\"#\"><svg class=\"icon sprite-icons checkbox-inactive\" data-v-497816de=\"\" xmlns=\"http://www.w3.org/2000/svg\"><use data-v-497816de=\"\" href=\"/_nuxt/cfd590865a821f881a56a77f46791162.svg#i-checkbox-inactive\" xlink:href=\"/_nuxt/cfd590865a821f881a56a77f46791162.svg#i-checkbox-inactive\"></use></svg> <span class=\"link_txt\" data-v-497816de=\"\">New Balance 530</span></a>,\n",
       " <a class=\"menu_link\" data-v-497816de=\"\" href=\"#\"><svg class=\"icon sprite-icons checkbox-inactive\" data-v-497816de=\"\" xmlns=\"http://www.w3.org/2000/svg\"><use data-v-497816de=\"\" href=\"/_nuxt/cfd590865a821f881a56a77f46791162.svg#i-checkbox-inactive\" xlink:href=\"/_nuxt/cfd590865a821f881a56a77f46791162.svg#i-checkbox-inactive\"></use></svg> <span class=\"link_txt\" data-v-497816de=\"\">New Balance 990</span></a>,\n",
       " <a class=\"menu_link\" data-v-497816de=\"\" href=\"#\"><svg class=\"icon sprite-icons checkbox-inactive\" data-v-497816de=\"\" xmlns=\"http://www.w3.org/2000/svg\"><use data-v-497816de=\"\" href=\"/_nuxt/cfd590865a821f881a56a77f46791162.svg#i-checkbox-inactive\" xlink:href=\"/_nuxt/cfd590865a821f881a56a77f46791162.svg#i-checkbox-inactive\"></use></svg> <span class=\"link_txt\" data-v-497816de=\"\">New Balance 991</span></a>,\n",
       " <a class=\"menu_link\" data-v-497816de=\"\" href=\"#\"><svg class=\"icon sprite-icons checkbox-inactive\" data-v-497816de=\"\" xmlns=\"http://www.w3.org/2000/svg\"><use data-v-497816de=\"\" href=\"/_nuxt/cfd590865a821f881a56a77f46791162.svg#i-checkbox-inactive\" xlink:href=\"/_nuxt/cfd590865a821f881a56a77f46791162.svg#i-checkbox-inactive\"></use></svg> <span class=\"link_txt\" data-v-497816de=\"\">New Balance 992</span></a>,\n",
       " <a class=\"menu_link\" data-v-497816de=\"\" href=\"#\"><svg class=\"icon sprite-icons checkbox-inactive\" data-v-497816de=\"\" xmlns=\"http://www.w3.org/2000/svg\"><use data-v-497816de=\"\" href=\"/_nuxt/cfd590865a821f881a56a77f46791162.svg#i-checkbox-inactive\" xlink:href=\"/_nuxt/cfd590865a821f881a56a77f46791162.svg#i-checkbox-inactive\"></use></svg> <span class=\"link_txt\" data-v-497816de=\"\">New Balance 993</span></a>,\n",
       " <a class=\"menu_link\" data-v-497816de=\"\" href=\"#\"><svg class=\"icon sprite-icons checkbox-inactive\" data-v-497816de=\"\" xmlns=\"http://www.w3.org/2000/svg\"><use data-v-497816de=\"\" href=\"/_nuxt/cfd590865a821f881a56a77f46791162.svg#i-checkbox-inactive\" xlink:href=\"/_nuxt/cfd590865a821f881a56a77f46791162.svg#i-checkbox-inactive\"></use></svg> <span class=\"link_txt\" data-v-497816de=\"\">New Balance 1300</span></a>,\n",
       " <a class=\"menu_link\" data-v-497816de=\"\" href=\"#\"><svg class=\"icon sprite-icons checkbox-inactive\" data-v-497816de=\"\" xmlns=\"http://www.w3.org/2000/svg\"><use data-v-497816de=\"\" href=\"/_nuxt/cfd590865a821f881a56a77f46791162.svg#i-checkbox-inactive\" xlink:href=\"/_nuxt/cfd590865a821f881a56a77f46791162.svg#i-checkbox-inactive\"></use></svg> <span class=\"link_txt\" data-v-497816de=\"\">New Balance 2002</span></a>,\n",
       " <a class=\"menu_link\" data-v-497816de=\"\" href=\"#\"><svg class=\"icon sprite-icons checkbox-inactive\" data-v-497816de=\"\" xmlns=\"http://www.w3.org/2000/svg\"><use data-v-497816de=\"\" href=\"/_nuxt/cfd590865a821f881a56a77f46791162.svg#i-checkbox-inactive\" xlink:href=\"/_nuxt/cfd590865a821f881a56a77f46791162.svg#i-checkbox-inactive\"></use></svg> <span class=\"link_txt\" data-v-497816de=\"\">Converse Run Star</span></a>,\n",
       " <a class=\"menu_link\" data-v-497816de=\"\" href=\"#\"><svg class=\"icon sprite-icons checkbox-inactive\" data-v-497816de=\"\" xmlns=\"http://www.w3.org/2000/svg\"><use data-v-497816de=\"\" href=\"/_nuxt/cfd590865a821f881a56a77f46791162.svg#i-checkbox-inactive\" xlink:href=\"/_nuxt/cfd590865a821f881a56a77f46791162.svg#i-checkbox-inactive\"></use></svg> <span class=\"link_txt\" data-v-497816de=\"\">Converse Chuck 70</span></a>,\n",
       " <a class=\"menu_link\" data-v-497816de=\"\" href=\"#\"><svg class=\"icon sprite-icons checkbox-inactive\" data-v-497816de=\"\" xmlns=\"http://www.w3.org/2000/svg\"><use data-v-497816de=\"\" href=\"/_nuxt/cfd590865a821f881a56a77f46791162.svg#i-checkbox-inactive\" xlink:href=\"/_nuxt/cfd590865a821f881a56a77f46791162.svg#i-checkbox-inactive\"></use></svg> <span class=\"link_txt\" data-v-497816de=\"\">Adidas Yeezy</span></a>,\n",
       " <a class=\"menu_link\" data-v-497816de=\"\" href=\"#\"><svg class=\"icon sprite-icons checkbox-inactive\" data-v-497816de=\"\" xmlns=\"http://www.w3.org/2000/svg\"><use data-v-497816de=\"\" href=\"/_nuxt/cfd590865a821f881a56a77f46791162.svg#i-checkbox-inactive\" xlink:href=\"/_nuxt/cfd590865a821f881a56a77f46791162.svg#i-checkbox-inactive\"></use></svg> <span class=\"link_txt\" data-v-497816de=\"\">Adidas Superstar</span></a>,\n",
       " <a class=\"menu_link\" data-v-497816de=\"\" href=\"#\"><svg class=\"icon sprite-icons checkbox-inactive\" data-v-497816de=\"\" xmlns=\"http://www.w3.org/2000/svg\"><use data-v-497816de=\"\" href=\"/_nuxt/cfd590865a821f881a56a77f46791162.svg#i-checkbox-inactive\" xlink:href=\"/_nuxt/cfd590865a821f881a56a77f46791162.svg#i-checkbox-inactive\"></use></svg> <span class=\"link_txt\" data-v-497816de=\"\">x Off-White</span></a>,\n",
       " <a class=\"menu_link\" data-v-497816de=\"\" href=\"#\"><svg class=\"icon sprite-icons checkbox-inactive\" data-v-497816de=\"\" xmlns=\"http://www.w3.org/2000/svg\"><use data-v-497816de=\"\" href=\"/_nuxt/cfd590865a821f881a56a77f46791162.svg#i-checkbox-inactive\" xlink:href=\"/_nuxt/cfd590865a821f881a56a77f46791162.svg#i-checkbox-inactive\"></use></svg> <span class=\"link_txt\" data-v-497816de=\"\">x Travis Scott</span></a>,\n",
       " <a class=\"menu_link\" data-v-497816de=\"\" href=\"#\"><svg class=\"icon sprite-icons checkbox-inactive\" data-v-497816de=\"\" xmlns=\"http://www.w3.org/2000/svg\"><use data-v-497816de=\"\" href=\"/_nuxt/cfd590865a821f881a56a77f46791162.svg#i-checkbox-inactive\" xlink:href=\"/_nuxt/cfd590865a821f881a56a77f46791162.svg#i-checkbox-inactive\"></use></svg> <span class=\"link_txt\" data-v-497816de=\"\">x Sacai</span></a>,\n",
       " <a class=\"menu_link\" data-v-497816de=\"\" href=\"#\"><svg class=\"icon sprite-icons checkbox-inactive\" data-v-497816de=\"\" xmlns=\"http://www.w3.org/2000/svg\"><use data-v-497816de=\"\" href=\"/_nuxt/cfd590865a821f881a56a77f46791162.svg#i-checkbox-inactive\" xlink:href=\"/_nuxt/cfd590865a821f881a56a77f46791162.svg#i-checkbox-inactive\"></use></svg> <span class=\"link_txt\" data-v-497816de=\"\">x Undercover</span></a>,\n",
       " <a class=\"menu_link\" data-v-497816de=\"\" href=\"#\"><svg class=\"icon sprite-icons checkbox-inactive\" data-v-497816de=\"\" xmlns=\"http://www.w3.org/2000/svg\"><use data-v-497816de=\"\" href=\"/_nuxt/cfd590865a821f881a56a77f46791162.svg#i-checkbox-inactive\" xlink:href=\"/_nuxt/cfd590865a821f881a56a77f46791162.svg#i-checkbox-inactive\"></use></svg> <span class=\"link_txt\" data-v-497816de=\"\">x Supreme</span></a>,\n",
       " <a class=\"menu_link\" data-v-497816de=\"\" href=\"#\"><svg class=\"icon sprite-icons checkbox-inactive\" data-v-497816de=\"\" xmlns=\"http://www.w3.org/2000/svg\"><use data-v-497816de=\"\" href=\"/_nuxt/cfd590865a821f881a56a77f46791162.svg#i-checkbox-inactive\" xlink:href=\"/_nuxt/cfd590865a821f881a56a77f46791162.svg#i-checkbox-inactive\"></use></svg> <span class=\"link_txt\" data-v-497816de=\"\">x Stussy</span></a>,\n",
       " <a class=\"menu_link\" data-v-497816de=\"\" href=\"#\"><svg class=\"icon sprite-icons checkbox-inactive\" data-v-497816de=\"\" xmlns=\"http://www.w3.org/2000/svg\"><use data-v-497816de=\"\" href=\"/_nuxt/cfd590865a821f881a56a77f46791162.svg#i-checkbox-inactive\" xlink:href=\"/_nuxt/cfd590865a821f881a56a77f46791162.svg#i-checkbox-inactive\"></use></svg> <span class=\"link_txt\" data-v-497816de=\"\">x Fear of God</span></a>,\n",
       " <a class=\"menu_link\" data-v-497816de=\"\" href=\"#\"><svg class=\"icon sprite-icons checkbox-inactive\" data-v-497816de=\"\" xmlns=\"http://www.w3.org/2000/svg\"><use data-v-497816de=\"\" href=\"/_nuxt/cfd590865a821f881a56a77f46791162.svg#i-checkbox-inactive\" xlink:href=\"/_nuxt/cfd590865a821f881a56a77f46791162.svg#i-checkbox-inactive\"></use></svg> <span class=\"link_txt\" data-v-497816de=\"\">x Peaceminusone</span></a>,\n",
       " <a class=\"menu_link\" data-v-497816de=\"\" href=\"#\"><svg class=\"icon sprite-icons checkbox-inactive\" data-v-497816de=\"\" xmlns=\"http://www.w3.org/2000/svg\"><use data-v-497816de=\"\" href=\"/_nuxt/cfd590865a821f881a56a77f46791162.svg#i-checkbox-inactive\" xlink:href=\"/_nuxt/cfd590865a821f881a56a77f46791162.svg#i-checkbox-inactive\"></use></svg> <span class=\"link_txt\" data-v-497816de=\"\">Luxury Collection</span></a>,\n",
       " <a class=\"menu_link\" data-v-497816de=\"\" href=\"#\"><svg class=\"icon sprite-icons checkbox-inactive\" data-v-497816de=\"\" xmlns=\"http://www.w3.org/2000/svg\"><use data-v-497816de=\"\" href=\"/_nuxt/cfd590865a821f881a56a77f46791162.svg#i-checkbox-inactive\" xlink:href=\"/_nuxt/cfd590865a821f881a56a77f46791162.svg#i-checkbox-inactive\"></use></svg> <span class=\"link_txt\" data-v-497816de=\"\">10만원 이하</span></a>,\n",
       " <a class=\"menu_link\" data-v-497816de=\"\" href=\"#\"><svg class=\"icon sprite-icons checkbox-inactive\" data-v-497816de=\"\" xmlns=\"http://www.w3.org/2000/svg\"><use data-v-497816de=\"\" href=\"/_nuxt/cfd590865a821f881a56a77f46791162.svg#i-checkbox-inactive\" xlink:href=\"/_nuxt/cfd590865a821f881a56a77f46791162.svg#i-checkbox-inactive\"></use></svg> <span class=\"link_txt\" data-v-497816de=\"\">10만원 - 30만원 이하</span></a>,\n",
       " <a class=\"menu_link\" data-v-497816de=\"\" href=\"#\"><svg class=\"icon sprite-icons checkbox-inactive\" data-v-497816de=\"\" xmlns=\"http://www.w3.org/2000/svg\"><use data-v-497816de=\"\" href=\"/_nuxt/cfd590865a821f881a56a77f46791162.svg#i-checkbox-inactive\" xlink:href=\"/_nuxt/cfd590865a821f881a56a77f46791162.svg#i-checkbox-inactive\"></use></svg> <span class=\"link_txt\" data-v-497816de=\"\">30만원 - 50만원 이하</span></a>,\n",
       " <a class=\"menu_link\" data-v-497816de=\"\" href=\"#\"><svg class=\"icon sprite-icons checkbox-inactive\" data-v-497816de=\"\" xmlns=\"http://www.w3.org/2000/svg\"><use data-v-497816de=\"\" href=\"/_nuxt/cfd590865a821f881a56a77f46791162.svg#i-checkbox-inactive\" xlink:href=\"/_nuxt/cfd590865a821f881a56a77f46791162.svg#i-checkbox-inactive\"></use></svg> <span class=\"link_txt\" data-v-497816de=\"\">50만원 이상</span></a>,\n",
       " <a class=\"menu_link\" data-v-515bc6e9=\"\" href=\"#\"> 검수기준 </a>,\n",
       " <a class=\"menu_link\" data-v-515bc6e9=\"\" href=\"#\"> 이용정책 </a>,\n",
       " <a class=\"menu_link\" data-v-515bc6e9=\"\" href=\"#\">\n",
       "                 페널티 정책\n",
       "               </a>,\n",
       " <a class=\"menu_link\" data-v-515bc6e9=\"\" href=\"#\">\n",
       "                 커뮤니티 가이드라인\n",
       "               </a>,\n",
       " <a class=\"menu_link\" data-v-515bc6e9=\"\" href=\"/notice\">공지사항</a>,\n",
       " <a class=\"menu_link\" data-v-515bc6e9=\"\" href=\"/about\" target=\"_blank\">서비스 소개</a>,\n",
       " <a class=\"menu_link\" data-v-515bc6e9=\"\" href=\"/showroom\" target=\"_blank\">\n",
       "                 쇼룸 안내\n",
       "               </a>,\n",
       " <a class=\"menu_link\" data-v-515bc6e9=\"\" href=\"/about/seller_reception\" target=\"_blank\">판매자 방문접수</a>]"
      ]
     },
     "execution_count": 40,
     "metadata": {},
     "output_type": "execute_result"
    }
   ],
   "source": [
    "soup.select('a.menu_link')"
   ]
  },
  {
   "cell_type": "code",
   "execution_count": 38,
   "id": "b877cbd1",
   "metadata": {},
   "outputs": [
    {
     "data": {
      "text/plain": [
       "<span class=\"link_txt\" data-v-497816de=\"\">Jordan 1</span>"
      ]
     },
     "execution_count": 38,
     "metadata": {},
     "output_type": "execute_result"
    }
   ],
   "source": [
    "soup.select('a.menu_link > span.link_txt')[117]"
   ]
  },
  {
   "cell_type": "code",
   "execution_count": null,
   "id": "c3af3e18",
   "metadata": {},
   "outputs": [],
   "source": []
  },
  {
   "cell_type": "code",
   "execution_count": 314,
   "id": "111822fe",
   "metadata": {},
   "outputs": [],
   "source": [
    "product = 'adidas yeezy'\n",
    "brand = 'Adidas'\n",
    "category = 'Adidas Yeezy'\n",
    "# collection = '60'"
   ]
  },
  {
   "cell_type": "markdown",
   "id": "30a05d7c",
   "metadata": {},
   "source": [
    "### 크롤링 환경 설정"
   ]
  },
  {
   "cell_type": "code",
   "execution_count": 275,
   "id": "3c23f727",
   "metadata": {},
   "outputs": [
    {
     "name": "stderr",
     "output_type": "stream",
     "text": [
      "<ipython-input-275-8ffe0452779f>:2: DeprecationWarning: executable_path has been deprecated, please pass in a Service object\n",
      "  driver = webdriver.Chrome('./chromedriver')\n"
     ]
    }
   ],
   "source": [
    "# 크롬창 열기\n",
    "driver = webdriver.Chrome('./chromedriver')\n",
    "\n",
    "# 윈도우 사용자분들\n",
    "# driver = webdriver.Chrome('.//chromedriver.exe')"
   ]
  },
  {
   "cell_type": "code",
   "execution_count": 4,
   "id": "0f375ad1",
   "metadata": {},
   "outputs": [
    {
     "ename": "NameError",
     "evalue": "name 'product' is not defined",
     "output_type": "error",
     "traceback": [
      "\u001b[0;31m---------------------------------------------------------------------------\u001b[0m",
      "\u001b[0;31mNameError\u001b[0m                                 Traceback (most recent call last)",
      "\u001b[0;32m<ipython-input-4-64fc608db0e1>\u001b[0m in \u001b[0;36m<module>\u001b[0;34m\u001b[0m\n\u001b[1;32m      1\u001b[0m \u001b[0;31m# product 검색결과 크림사이트 접속\u001b[0m\u001b[0;34m\u001b[0m\u001b[0;34m\u001b[0m\u001b[0;34m\u001b[0m\u001b[0m\n\u001b[1;32m      2\u001b[0m \u001b[0;31m# url = 'https://kream.co.kr/search?category_id=1&tag_id[collection]={0}&sort=popular&per_page=40'.format(collection)\u001b[0m\u001b[0;34m\u001b[0m\u001b[0;34m\u001b[0m\u001b[0;34m\u001b[0m\u001b[0m\n\u001b[0;32m----> 3\u001b[0;31m \u001b[0murl\u001b[0m \u001b[0;34m=\u001b[0m \u001b[0;34m'https://kream.co.kr/search?category_id=1&keyword={0}&sort=popular&per_page=40'\u001b[0m\u001b[0;34m.\u001b[0m\u001b[0mformat\u001b[0m\u001b[0;34m(\u001b[0m\u001b[0mproduct\u001b[0m\u001b[0;34m)\u001b[0m\u001b[0;34m\u001b[0m\u001b[0;34m\u001b[0m\u001b[0m\n\u001b[0m\u001b[1;32m      4\u001b[0m \u001b[0mdriver\u001b[0m\u001b[0;34m.\u001b[0m\u001b[0mget\u001b[0m\u001b[0;34m(\u001b[0m\u001b[0murl\u001b[0m\u001b[0;34m)\u001b[0m\u001b[0;34m\u001b[0m\u001b[0;34m\u001b[0m\u001b[0m\n",
      "\u001b[0;31mNameError\u001b[0m: name 'product' is not defined"
     ]
    }
   ],
   "source": [
    "# product 검색결과 크림사이트 접속\n",
    "# url = 'https://kream.co.kr/search?category_id=1&tag_id[collection]={0}&sort=popular&per_page=40'.format(collection)\n",
    "url = 'https://kream.co.kr/search?category_id=1&sort=popular&per_page=40'.format(product)\n",
    "driver.get(url)"
   ]
  },
  {
   "cell_type": "code",
   "execution_count": 5,
   "id": "591c3b24",
   "metadata": {},
   "outputs": [
    {
     "name": "stderr",
     "output_type": "stream",
     "text": [
      "<ipython-input-5-f1d64af30c17>:1: DeprecationWarning: find_element_by_* commands are deprecated. Please use find_element() instead\n",
      "  driver.find_element_by_xpath('//*[@id=\"__layout\"]/div/div[2]/div[5]/div[1]/div[5]/div[1]').click()\n"
     ]
    }
   ],
   "source": []
  },
  {
   "cell_type": "code",
   "execution_count": 292,
   "id": "4385a16f",
   "metadata": {},
   "outputs": [],
   "source": [
    "import datetime\n",
    "    \n",
    "def doScrollDown(whileSeconds):\n",
    "    start = datetime.datetime.now()\n",
    "    end = start + datetime.timedelta(seconds=whileSeconds)\n",
    "    while True:\n",
    "        driver.execute_script(\"window.scrollTo(0, document.body.scrollHeight)\")\n",
    "        time.sleep(1)\n",
    "        if datetime.datetime.now() > end:\n",
    "            break"
   ]
  },
  {
   "cell_type": "code",
   "execution_count": 315,
   "id": "04fd1d45",
   "metadata": {},
   "outputs": [],
   "source": [
    "doScrollDown(10)"
   ]
  },
  {
   "cell_type": "code",
   "execution_count": 316,
   "id": "934cea6e",
   "metadata": {},
   "outputs": [],
   "source": [
    "html = driver.page_source\n",
    "soup = BeautifulSoup(html, 'html.parser')\n",
    "number_list = []\n",
    "for item in soup.select('div.search_result_item > a.item_inner'):\n",
    "    number_list.append(item)\n",
    "product_list = []\n",
    "for item in soup.select('div.title > p.name'):\n",
    "    product_list.append(item.text)\n",
    "wish_list = []\n",
    "for item in soup.select('span.wish_figure'):\n",
    "    wish_list.append(item.text.replace(' ',''))\n",
    "review_list = []\n",
    "for item in soup.select('span.review_figure'):\n",
    "    review_list.append(item.text.replace(' ',''))"
   ]
  },
  {
   "cell_type": "code",
   "execution_count": 317,
   "id": "c9f765f3",
   "metadata": {},
   "outputs": [],
   "source": [
    "def number_extract(x):\n",
    "    r1 = str(x).find('products/')\n",
    "    r2 = str(x)[r1+9:].find('\"')\n",
    "    return str(x)[r1+9:r1+9+r2]"
   ]
  },
  {
   "cell_type": "code",
   "execution_count": 318,
   "id": "9d12abd3",
   "metadata": {},
   "outputs": [],
   "source": [
    "number_list = [number_extract(item) for item in number_list]"
   ]
  },
  {
   "cell_type": "code",
   "execution_count": 319,
   "id": "39c1a7aa",
   "metadata": {},
   "outputs": [],
   "source": [
    "df = pd.DataFrame({'product':product_list, 'brand':brand, 'category':category,  'number':number_list, 'wish':wish_list, 'review':review_list})"
   ]
  },
  {
   "cell_type": "code",
   "execution_count": 320,
   "id": "a5553926",
   "metadata": {},
   "outputs": [
    {
     "data": {
      "text/html": [
       "<div>\n",
       "<style scoped>\n",
       "    .dataframe tbody tr th:only-of-type {\n",
       "        vertical-align: middle;\n",
       "    }\n",
       "\n",
       "    .dataframe tbody tr th {\n",
       "        vertical-align: top;\n",
       "    }\n",
       "\n",
       "    .dataframe thead th {\n",
       "        text-align: right;\n",
       "    }\n",
       "</style>\n",
       "<table border=\"1\" class=\"dataframe\">\n",
       "  <thead>\n",
       "    <tr style=\"text-align: right;\">\n",
       "      <th></th>\n",
       "      <th>product</th>\n",
       "      <th>brand</th>\n",
       "      <th>category</th>\n",
       "      <th>number</th>\n",
       "      <th>wish</th>\n",
       "      <th>review</th>\n",
       "    </tr>\n",
       "  </thead>\n",
       "  <tbody>\n",
       "    <tr>\n",
       "      <th>0</th>\n",
       "      <td>Adidas Yeezy Boost 350 V2 Beluga - Reflective</td>\n",
       "      <td>Adidas</td>\n",
       "      <td>Adidas Yeezy</td>\n",
       "      <td>46666</td>\n",
       "      <td>4,717</td>\n",
       "      <td>231</td>\n",
       "    </tr>\n",
       "    <tr>\n",
       "      <th>1</th>\n",
       "      <td>Adidas Yeezy Boost 350 V2 Blue Tint</td>\n",
       "      <td>Adidas</td>\n",
       "      <td>Adidas Yeezy</td>\n",
       "      <td>12491</td>\n",
       "      <td>5,641</td>\n",
       "      <td>256</td>\n",
       "    </tr>\n",
       "    <tr>\n",
       "      <th>2</th>\n",
       "      <td>Adidas Yeezy 500 Ash Grey</td>\n",
       "      <td>Adidas</td>\n",
       "      <td>Adidas Yeezy</td>\n",
       "      <td>46083</td>\n",
       "      <td>2,282</td>\n",
       "      <td>28</td>\n",
       "    </tr>\n",
       "    <tr>\n",
       "      <th>3</th>\n",
       "      <td>Adidas Yeezy Boost 350 V2 MX Rock</td>\n",
       "      <td>Adidas</td>\n",
       "      <td>Adidas Yeezy</td>\n",
       "      <td>47158</td>\n",
       "      <td>1,333</td>\n",
       "      <td>52</td>\n",
       "    </tr>\n",
       "    <tr>\n",
       "      <th>4</th>\n",
       "      <td>Adidas Yeezy Boost 350 V2 Israfil</td>\n",
       "      <td>Adidas</td>\n",
       "      <td>Adidas Yeezy</td>\n",
       "      <td>25011</td>\n",
       "      <td>1,594</td>\n",
       "      <td>74</td>\n",
       "    </tr>\n",
       "    <tr>\n",
       "      <th>...</th>\n",
       "      <td>...</td>\n",
       "      <td>...</td>\n",
       "      <td>...</td>\n",
       "      <td>...</td>\n",
       "      <td>...</td>\n",
       "      <td>...</td>\n",
       "    </tr>\n",
       "    <tr>\n",
       "      <th>314</th>\n",
       "      <td>(Kids) Adidas Yeezy Boost 350 V2 Citrin</td>\n",
       "      <td>Adidas</td>\n",
       "      <td>Adidas Yeezy</td>\n",
       "      <td>22114</td>\n",
       "      <td>10</td>\n",
       "      <td>0</td>\n",
       "    </tr>\n",
       "    <tr>\n",
       "      <th>315</th>\n",
       "      <td>(Kids) Adidas Yeezy Boost 350 V2 Lundmark</td>\n",
       "      <td>Adidas</td>\n",
       "      <td>Adidas Yeezy</td>\n",
       "      <td>21255</td>\n",
       "      <td>9</td>\n",
       "      <td>0</td>\n",
       "    </tr>\n",
       "    <tr>\n",
       "      <th>316</th>\n",
       "      <td>(W) Adidas Yeezy 950 Moonrock</td>\n",
       "      <td>Adidas</td>\n",
       "      <td>Adidas Yeezy</td>\n",
       "      <td>5831</td>\n",
       "      <td>6</td>\n",
       "      <td>2</td>\n",
       "    </tr>\n",
       "    <tr>\n",
       "      <th>317</th>\n",
       "      <td>(W) Adidas Yeezy 950 Turtle Dove</td>\n",
       "      <td>Adidas</td>\n",
       "      <td>Adidas Yeezy</td>\n",
       "      <td>5829</td>\n",
       "      <td>3</td>\n",
       "      <td>0</td>\n",
       "    </tr>\n",
       "    <tr>\n",
       "      <th>318</th>\n",
       "      <td>Adidas Yeezy 950 Peyote</td>\n",
       "      <td>Adidas</td>\n",
       "      <td>Adidas Yeezy</td>\n",
       "      <td>5828</td>\n",
       "      <td>10</td>\n",
       "      <td>1</td>\n",
       "    </tr>\n",
       "  </tbody>\n",
       "</table>\n",
       "<p>319 rows × 6 columns</p>\n",
       "</div>"
      ],
      "text/plain": [
       "                                           product   brand      category  \\\n",
       "0    Adidas Yeezy Boost 350 V2 Beluga - Reflective  Adidas  Adidas Yeezy   \n",
       "1              Adidas Yeezy Boost 350 V2 Blue Tint  Adidas  Adidas Yeezy   \n",
       "2                        Adidas Yeezy 500 Ash Grey  Adidas  Adidas Yeezy   \n",
       "3                Adidas Yeezy Boost 350 V2 MX Rock  Adidas  Adidas Yeezy   \n",
       "4                Adidas Yeezy Boost 350 V2 Israfil  Adidas  Adidas Yeezy   \n",
       "..                                             ...     ...           ...   \n",
       "314        (Kids) Adidas Yeezy Boost 350 V2 Citrin  Adidas  Adidas Yeezy   \n",
       "315      (Kids) Adidas Yeezy Boost 350 V2 Lundmark  Adidas  Adidas Yeezy   \n",
       "316                  (W) Adidas Yeezy 950 Moonrock  Adidas  Adidas Yeezy   \n",
       "317               (W) Adidas Yeezy 950 Turtle Dove  Adidas  Adidas Yeezy   \n",
       "318                        Adidas Yeezy 950 Peyote  Adidas  Adidas Yeezy   \n",
       "\n",
       "    number   wish review  \n",
       "0    46666  4,717    231  \n",
       "1    12491  5,641    256  \n",
       "2    46083  2,282     28  \n",
       "3    47158  1,333     52  \n",
       "4    25011  1,594     74  \n",
       "..     ...    ...    ...  \n",
       "314  22114     10      0  \n",
       "315  21255      9      0  \n",
       "316   5831      6      2  \n",
       "317   5829      3      0  \n",
       "318   5828     10      1  \n",
       "\n",
       "[319 rows x 6 columns]"
      ]
     },
     "execution_count": 320,
     "metadata": {},
     "output_type": "execute_result"
    }
   ],
   "source": [
    "df"
   ]
  },
  {
   "cell_type": "code",
   "execution_count": 321,
   "id": "2357cc53",
   "metadata": {},
   "outputs": [],
   "source": [
    "df.to_csv('data/products/products_{0}.csv'.format(product.replace(' ','_')))"
   ]
  },
  {
   "cell_type": "code",
   "execution_count": null,
   "id": "e91159eb",
   "metadata": {},
   "outputs": [],
   "source": []
  }
 ],
 "metadata": {
  "kernelspec": {
   "display_name": "Python 3",
   "language": "python",
   "name": "python3"
  },
  "language_info": {
   "codemirror_mode": {
    "name": "ipython",
    "version": 3
   },
   "file_extension": ".py",
   "mimetype": "text/x-python",
   "name": "python",
   "nbconvert_exporter": "python",
   "pygments_lexer": "ipython3",
   "version": "3.9.4"
  }
 },
 "nbformat": 4,
 "nbformat_minor": 5
}
